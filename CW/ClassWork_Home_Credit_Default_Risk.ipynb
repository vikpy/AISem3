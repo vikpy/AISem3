{
  "nbformat": 4,
  "nbformat_minor": 0,
  "metadata": {
    "colab": {
      "name": "ClassWork_Home_Credit_Default_Risk.ipynb",
      "provenance": [],
      "collapsed_sections": [],
      "authorship_tag": "ABX9TyNRD22ouXqgCjW7XqoVkMwl",
      "include_colab_link": true
    },
    "kernelspec": {
      "name": "python3",
      "display_name": "Python 3"
    }
  },
  "cells": [
    {
      "cell_type": "markdown",
      "metadata": {
        "id": "view-in-github",
        "colab_type": "text"
      },
      "source": [
        "<a href=\"https://colab.research.google.com/github/vikpy/AISem3/blob/master/CW/ClassWork_Home_Credit_Default_Risk.ipynb\" target=\"_parent\"><img src=\"https://colab.research.google.com/assets/colab-badge.svg\" alt=\"Open In Colab\"/></a>"
      ]
    },
    {
      "cell_type": "code",
      "metadata": {
        "id": "puU5hcDWte88",
        "colab_type": "code",
        "colab": {
          "base_uri": "https://localhost:8080/",
          "height": 202
        },
        "outputId": "8f68b620-db85-4c5c-84a4-09ea63ce2a01"
      },
      "source": [
        "!pip install kaggle"
      ],
      "execution_count": 6,
      "outputs": [
        {
          "output_type": "stream",
          "text": [
            "Requirement already satisfied: kaggle in /usr/local/lib/python3.6/dist-packages (1.5.6)\n",
            "Requirement already satisfied: requests in /usr/local/lib/python3.6/dist-packages (from kaggle) (2.23.0)\n",
            "Requirement already satisfied: certifi in /usr/local/lib/python3.6/dist-packages (from kaggle) (2020.6.20)\n",
            "Requirement already satisfied: tqdm in /usr/local/lib/python3.6/dist-packages (from kaggle) (4.41.1)\n",
            "Requirement already satisfied: python-slugify in /usr/local/lib/python3.6/dist-packages (from kaggle) (4.0.0)\n",
            "Requirement already satisfied: urllib3<1.25,>=1.21.1 in /usr/local/lib/python3.6/dist-packages (from kaggle) (1.24.3)\n",
            "Requirement already satisfied: python-dateutil in /usr/local/lib/python3.6/dist-packages (from kaggle) (2.8.1)\n",
            "Requirement already satisfied: six>=1.10 in /usr/local/lib/python3.6/dist-packages (from kaggle) (1.12.0)\n",
            "Requirement already satisfied: chardet<4,>=3.0.2 in /usr/local/lib/python3.6/dist-packages (from requests->kaggle) (3.0.4)\n",
            "Requirement already satisfied: idna<3,>=2.5 in /usr/local/lib/python3.6/dist-packages (from requests->kaggle) (2.9)\n",
            "Requirement already satisfied: text-unidecode>=1.3 in /usr/local/lib/python3.6/dist-packages (from python-slugify->kaggle) (1.3)\n"
          ],
          "name": "stdout"
        }
      ]
    },
    {
      "cell_type": "code",
      "metadata": {
        "id": "Pnc-O04Iy1OP",
        "colab_type": "code",
        "colab": {}
      },
      "source": [
        "!mkdir .kaggle"
      ],
      "execution_count": 8,
      "outputs": []
    },
    {
      "cell_type": "code",
      "metadata": {
        "id": "WiOVHV2Qy_Rz",
        "colab_type": "code",
        "colab": {}
      },
      "source": [
        "import json\n",
        "token = {\"username\":\"vikraantpy\",\"key\":\"\"}   # Key removed for confidentiality \n",
        "with open('/content/.kaggle/kaggle.json', 'w') as file:\n",
        "    json.dump(token, file)"
      ],
      "execution_count": 9,
      "outputs": []
    },
    {
      "cell_type": "code",
      "metadata": {
        "id": "lvjOC_541Acs",
        "colab_type": "code",
        "colab": {}
      },
      "source": [
        "!cp /content/.kaggle/kaggle.json ~/.kaggle/kaggle.json"
      ],
      "execution_count": 10,
      "outputs": []
    },
    {
      "cell_type": "code",
      "metadata": {
        "id": "Ox-k2RT21GWj",
        "colab_type": "code",
        "colab": {
          "base_uri": "https://localhost:8080/",
          "height": 50
        },
        "outputId": "0a360294-5f41-4796-9a72-91ea12f49d30"
      },
      "source": [
        "!kaggle config set -n path -v{/content}"
      ],
      "execution_count": 11,
      "outputs": [
        {
          "output_type": "stream",
          "text": [
            "Warning: Your Kaggle API key is readable by other users on this system! To fix this, you can run 'chmod 600 /root/.kaggle/kaggle.json'\n",
            "- path is now set to: {/content}\n"
          ],
          "name": "stdout"
        }
      ]
    },
    {
      "cell_type": "code",
      "metadata": {
        "id": "S-PbsR2Q1J_f",
        "colab_type": "code",
        "colab": {}
      },
      "source": [
        "!chmod 600 /root/.kaggle/kaggle.json"
      ],
      "execution_count": 12,
      "outputs": []
    },
    {
      "cell_type": "code",
      "metadata": {
        "id": "Wg8__bnW1LR9",
        "colab_type": "code",
        "colab": {
          "base_uri": "https://localhost:8080/",
          "height": 538
        },
        "outputId": "e6324164-47f4-4c0f-f4d9-c88c16b2d234"
      },
      "source": [
        "!kaggle competitions download -c home-credit-default-risk -p /content/"
      ],
      "execution_count": 14,
      "outputs": [
        {
          "output_type": "stream",
          "text": [
            "Warning: Looks like you're using an outdated API Version, please consider updating (server 1.5.6 / client 1.5.4)\n",
            "Downloading POS_CASH_balance.csv.zip to /content\n",
            " 81% 88.0M/109M [00:00<00:00, 142MB/s]\n",
            "100% 109M/109M [00:00<00:00, 221MB/s] \n",
            "Downloading bureau.csv.zip to /content\n",
            " 71% 26.0M/36.8M [00:00<00:00, 89.1MB/s]\n",
            "100% 36.8M/36.8M [00:00<00:00, 120MB/s] \n",
            "Downloading installments_payments.csv.zip to /content\n",
            " 95% 257M/271M [00:01<00:00, 181MB/s]\n",
            "100% 271M/271M [00:01<00:00, 158MB/s]\n",
            "Downloading application_train.csv.zip to /content\n",
            " 44% 16.0M/36.1M [00:00<00:00, 168MB/s]\n",
            "100% 36.1M/36.1M [00:00<00:00, 177MB/s]\n",
            "Downloading bureau_balance.csv.zip to /content\n",
            " 72% 41.0M/56.8M [00:00<00:00, 67.9MB/s]\n",
            "100% 56.8M/56.8M [00:00<00:00, 128MB/s] \n",
            "Downloading credit_card_balance.csv.zip to /content\n",
            " 88% 85.0M/96.7M [00:00<00:00, 165MB/s]\n",
            "100% 96.7M/96.7M [00:00<00:00, 165MB/s]\n",
            "Downloading previous_application.csv.zip to /content\n",
            " 80% 61.0M/76.3M [00:00<00:00, 96.4MB/s]\n",
            "100% 76.3M/76.3M [00:00<00:00, 172MB/s] \n",
            "Downloading sample_submission.csv to /content\n",
            "  0% 0.00/524k [00:00<?, ?B/s]\n",
            "100% 524k/524k [00:00<00:00, 164MB/s]\n",
            "Downloading HomeCredit_columns_description.csv to /content\n",
            "  0% 0.00/36.5k [00:00<?, ?B/s]\n",
            "100% 36.5k/36.5k [00:00<00:00, 32.8MB/s]\n",
            "Downloading application_test.csv.zip to /content\n",
            "  0% 0.00/5.81M [00:00<?, ?B/s]\n",
            "100% 5.81M/5.81M [00:00<00:00, 53.3MB/s]\n"
          ],
          "name": "stdout"
        }
      ]
    },
    {
      "cell_type": "code",
      "metadata": {
        "id": "wiiIKJ9n1pt3",
        "colab_type": "code",
        "colab": {
          "base_uri": "https://localhost:8080/",
          "height": 437
        },
        "outputId": "d4077d24-87a4-4c45-eecd-a8f5a1f1a650"
      },
      "source": [
        "!unzip \\*.zip"
      ],
      "execution_count": 15,
      "outputs": [
        {
          "output_type": "stream",
          "text": [
            "Archive:  application_train.csv.zip\n",
            "  inflating: application_train.csv   \n",
            "\n",
            "Archive:  installments_payments.csv.zip\n",
            "  inflating: installments_payments.csv  \n",
            "\n",
            "Archive:  bureau.csv.zip\n",
            "  inflating: bureau.csv              \n",
            "\n",
            "Archive:  application_test.csv.zip\n",
            "  inflating: application_test.csv    \n",
            "\n",
            "Archive:  credit_card_balance.csv.zip\n",
            "  inflating: credit_card_balance.csv  \n",
            "\n",
            "Archive:  POS_CASH_balance.csv.zip\n",
            "  inflating: POS_CASH_balance.csv    \n",
            "\n",
            "Archive:  bureau_balance.csv.zip\n",
            "  inflating: bureau_balance.csv      \n",
            "\n",
            "Archive:  previous_application.csv.zip\n",
            "  inflating: previous_application.csv  \n",
            "\n",
            "8 archives were successfully processed.\n"
          ],
          "name": "stdout"
        }
      ]
    },
    {
      "cell_type": "code",
      "metadata": {
        "id": "plR7oyZX2hxL",
        "colab_type": "code",
        "colab": {
          "base_uri": "https://localhost:8080/",
          "height": 168
        },
        "outputId": "6b4c9444-877e-4fdb-86c4-539fc37d6c31"
      },
      "source": [
        "!pip install pyforest \n",
        "from pyforest import * "
      ],
      "execution_count": 16,
      "outputs": [
        {
          "output_type": "stream",
          "text": [
            "Collecting pyforest\n",
            "  Downloading https://files.pythonhosted.org/packages/8f/85/77a9d2d9ff240822039f3dfd7a3b374d0621a0df5feb5d270a2151f6bb6d/pyforest-1.0.3.tar.gz\n",
            "Building wheels for collected packages: pyforest\n",
            "  Building wheel for pyforest (setup.py) ... \u001b[?25l\u001b[?25hdone\n",
            "  Created wheel for pyforest: filename=pyforest-1.0.3-py2.py3-none-any.whl size=13715 sha256=973b5f1a8f4f5190db9c2d00ad08cb99d40bc7ef1881572911e364187f25ef7d\n",
            "  Stored in directory: /root/.cache/pip/wheels/af/0b/39/340a7f15fc8d4ff5ab50847b28789afea04452a9d51b9721b5\n",
            "Successfully built pyforest\n",
            "Installing collected packages: pyforest\n",
            "Successfully installed pyforest-1.0.3\n"
          ],
          "name": "stdout"
        }
      ]
    },
    {
      "cell_type": "markdown",
      "metadata": {
        "id": "Ti7jFrnn2maU",
        "colab_type": "text"
      },
      "source": [
        "# Data Preprocessing \n"
      ]
    },
    {
      "cell_type": "code",
      "metadata": {
        "id": "VCBC0f4z3Lub",
        "colab_type": "code",
        "colab": {
          "base_uri": "https://localhost:8080/",
          "height": 50
        },
        "outputId": "be30afcd-b323-4a6b-a6c4-70b8de48544f"
      },
      "source": [
        "path_to_contents=\"/content/\"\n",
        "print(\"File reading started...\")\n",
        "application_train = pd.read_csv(path_to_contents+\"application_train.csv\")\n",
        "application_test = pd.read_csv(path_to_contents+\"application_test.csv\")\n",
        "bureau = pd.read_csv(path_to_contents+\"bureau.csv\")\n",
        "bureau_balance = pd.read_csv(path_to_contents+\"bureau_balance.csv\")\n",
        "credit_card_balance = pd.read_csv(path_to_contents+\"credit_card_balance.csv\")\n",
        "installments_payments = pd.read_csv(path_to_contents+\"installments_payments.csv\")\n",
        "previous_application = pd.read_csv(path_to_contents+\"previous_application.csv\")\n",
        "POS_CASH_balance = pd.read_csv(path_to_contents+\"POS_CASH_balance.csv\")\n",
        "print(\"All files read....\")"
      ],
      "execution_count": 57,
      "outputs": [
        {
          "output_type": "stream",
          "text": [
            "File reading started...\n"
          ],
          "name": "stdout"
        },
        {
          "output_type": "display_data",
          "data": {
            "application/javascript": [
              "\n",
              "        if (window._pyforest_update_imports_cell) { window._pyforest_update_imports_cell('import matplotlib.pyplot as plt\\nimport altair as alt\\nimport pickle\\nimport xgboost as xgb\\nimport plotly as py\\nimport pandas as pd\\nimport bokeh\\nimport pydot\\nimport plotly.express as px'); }\n",
              "    "
            ],
            "text/plain": [
              "<IPython.core.display.Javascript object>"
            ]
          },
          "metadata": {
            "tags": []
          }
        },
        {
          "output_type": "display_data",
          "data": {
            "application/javascript": [
              "\n",
              "        if (window._pyforest_update_imports_cell) { window._pyforest_update_imports_cell('import matplotlib.pyplot as plt\\nimport altair as alt\\nimport pickle\\nimport xgboost as xgb\\nimport plotly as py\\nimport pandas as pd\\nimport bokeh\\nimport pydot\\nimport plotly.express as px'); }\n",
              "    "
            ],
            "text/plain": [
              "<IPython.core.display.Javascript object>"
            ]
          },
          "metadata": {
            "tags": []
          }
        },
        {
          "output_type": "display_data",
          "data": {
            "application/javascript": [
              "\n",
              "        if (window._pyforest_update_imports_cell) { window._pyforest_update_imports_cell('import matplotlib.pyplot as plt\\nimport altair as alt\\nimport pickle\\nimport xgboost as xgb\\nimport plotly as py\\nimport pandas as pd\\nimport bokeh\\nimport pydot\\nimport plotly.express as px'); }\n",
              "    "
            ],
            "text/plain": [
              "<IPython.core.display.Javascript object>"
            ]
          },
          "metadata": {
            "tags": []
          }
        },
        {
          "output_type": "display_data",
          "data": {
            "application/javascript": [
              "\n",
              "        if (window._pyforest_update_imports_cell) { window._pyforest_update_imports_cell('import matplotlib.pyplot as plt\\nimport altair as alt\\nimport pickle\\nimport xgboost as xgb\\nimport plotly as py\\nimport pandas as pd\\nimport bokeh\\nimport pydot\\nimport plotly.express as px'); }\n",
              "    "
            ],
            "text/plain": [
              "<IPython.core.display.Javascript object>"
            ]
          },
          "metadata": {
            "tags": []
          }
        },
        {
          "output_type": "display_data",
          "data": {
            "application/javascript": [
              "\n",
              "        if (window._pyforest_update_imports_cell) { window._pyforest_update_imports_cell('import matplotlib.pyplot as plt\\nimport altair as alt\\nimport pickle\\nimport xgboost as xgb\\nimport plotly as py\\nimport pandas as pd\\nimport bokeh\\nimport pydot\\nimport plotly.express as px'); }\n",
              "    "
            ],
            "text/plain": [
              "<IPython.core.display.Javascript object>"
            ]
          },
          "metadata": {
            "tags": []
          }
        },
        {
          "output_type": "display_data",
          "data": {
            "application/javascript": [
              "\n",
              "        if (window._pyforest_update_imports_cell) { window._pyforest_update_imports_cell('import matplotlib.pyplot as plt\\nimport altair as alt\\nimport pickle\\nimport xgboost as xgb\\nimport plotly as py\\nimport pandas as pd\\nimport bokeh\\nimport pydot\\nimport plotly.express as px'); }\n",
              "    "
            ],
            "text/plain": [
              "<IPython.core.display.Javascript object>"
            ]
          },
          "metadata": {
            "tags": []
          }
        },
        {
          "output_type": "display_data",
          "data": {
            "application/javascript": [
              "\n",
              "        if (window._pyforest_update_imports_cell) { window._pyforest_update_imports_cell('import matplotlib.pyplot as plt\\nimport altair as alt\\nimport pickle\\nimport xgboost as xgb\\nimport plotly as py\\nimport pandas as pd\\nimport bokeh\\nimport pydot\\nimport plotly.express as px'); }\n",
              "    "
            ],
            "text/plain": [
              "<IPython.core.display.Javascript object>"
            ]
          },
          "metadata": {
            "tags": []
          }
        },
        {
          "output_type": "display_data",
          "data": {
            "application/javascript": [
              "\n",
              "        if (window._pyforest_update_imports_cell) { window._pyforest_update_imports_cell('import matplotlib.pyplot as plt\\nimport altair as alt\\nimport pickle\\nimport xgboost as xgb\\nimport plotly as py\\nimport pandas as pd\\nimport bokeh\\nimport pydot\\nimport plotly.express as px'); }\n",
              "    "
            ],
            "text/plain": [
              "<IPython.core.display.Javascript object>"
            ]
          },
          "metadata": {
            "tags": []
          }
        },
        {
          "output_type": "stream",
          "text": [
            "All files read....\n"
          ],
          "name": "stdout"
        }
      ]
    },
    {
      "cell_type": "code",
      "metadata": {
        "id": "gDUw-gziCtOD",
        "colab_type": "code",
        "colab": {}
      },
      "source": [
        "application_test = application_test.reset_index()\n",
        "application_train = application_train.reset_index()"
      ],
      "execution_count": 58,
      "outputs": []
    },
    {
      "cell_type": "code",
      "metadata": {
        "id": "PKOsh0aJ6oNy",
        "colab_type": "code",
        "colab": {
          "base_uri": "https://localhost:8080/",
          "height": 34
        },
        "outputId": "db36b25f-1c97-4ff6-cbae-cb0b4f29d4f2"
      },
      "source": [
        "application_train.shape"
      ],
      "execution_count": 23,
      "outputs": [
        {
          "output_type": "execute_result",
          "data": {
            "text/plain": [
              "(307511, 122)"
            ]
          },
          "metadata": {
            "tags": []
          },
          "execution_count": 23
        }
      ]
    },
    {
      "cell_type": "code",
      "metadata": {
        "id": "vDOr0sPt6gIh",
        "colab_type": "code",
        "colab": {
          "base_uri": "https://localhost:8080/",
          "height": 218
        },
        "outputId": "02ddf308-2789-4e20-cc57-b3cf0f24106e"
      },
      "source": [
        "application_train.isnull().sum()[application_train.isnull().sum()>0].sort_values(ascending=False)"
      ],
      "execution_count": 42,
      "outputs": [
        {
          "output_type": "execute_result",
          "data": {
            "text/plain": [
              "COMMONAREA_MEDI             214865\n",
              "COMMONAREA_AVG              214865\n",
              "COMMONAREA_MODE             214865\n",
              "NONLIVINGAPARTMENTS_AVG     213514\n",
              "NONLIVINGAPARTMENTS_MODE    213514\n",
              "                             ...  \n",
              "EXT_SOURCE_2                   660\n",
              "AMT_GOODS_PRICE                278\n",
              "AMT_ANNUITY                     12\n",
              "CNT_FAM_MEMBERS                  2\n",
              "DAYS_LAST_PHONE_CHANGE           1\n",
              "Length: 67, dtype: int64"
            ]
          },
          "metadata": {
            "tags": []
          },
          "execution_count": 42
        }
      ]
    },
    {
      "cell_type": "code",
      "metadata": {
        "id": "D53PJEQQ8Prt",
        "colab_type": "code",
        "colab": {
          "base_uri": "https://localhost:8080/",
          "height": 218
        },
        "outputId": "f0748f41-062f-4b4e-d583-3277d7857533"
      },
      "source": [
        "application_train.dtypes"
      ],
      "execution_count": 33,
      "outputs": [
        {
          "output_type": "execute_result",
          "data": {
            "text/plain": [
              "SK_ID_CURR                      int64\n",
              "TARGET                          int64\n",
              "NAME_CONTRACT_TYPE             object\n",
              "CODE_GENDER                    object\n",
              "FLAG_OWN_CAR                   object\n",
              "                               ...   \n",
              "AMT_REQ_CREDIT_BUREAU_DAY     float64\n",
              "AMT_REQ_CREDIT_BUREAU_WEEK    float64\n",
              "AMT_REQ_CREDIT_BUREAU_MON     float64\n",
              "AMT_REQ_CREDIT_BUREAU_QRT     float64\n",
              "AMT_REQ_CREDIT_BUREAU_YEAR    float64\n",
              "Length: 122, dtype: object"
            ]
          },
          "metadata": {
            "tags": []
          },
          "execution_count": 33
        }
      ]
    },
    {
      "cell_type": "code",
      "metadata": {
        "id": "VTMDy_Wf8Wf6",
        "colab_type": "code",
        "colab": {
          "base_uri": "https://localhost:8080/",
          "height": 218
        },
        "outputId": "5a57ebdc-78e6-4cb0-c5e9-93645421c6bc"
      },
      "source": [
        "application_test.isnull().sum()[application_test.isnull().sum()>0].sort_values(ascending=False)"
      ],
      "execution_count": 41,
      "outputs": [
        {
          "output_type": "execute_result",
          "data": {
            "text/plain": [
              "COMMONAREA_MODE             33495\n",
              "COMMONAREA_AVG              33495\n",
              "COMMONAREA_MEDI             33495\n",
              "NONLIVINGAPARTMENTS_MEDI    33347\n",
              "NONLIVINGAPARTMENTS_AVG     33347\n",
              "                            ...  \n",
              "DEF_30_CNT_SOCIAL_CIRCLE       29\n",
              "OBS_60_CNT_SOCIAL_CIRCLE       29\n",
              "DEF_60_CNT_SOCIAL_CIRCLE       29\n",
              "AMT_ANNUITY                    24\n",
              "EXT_SOURCE_2                    8\n",
              "Length: 64, dtype: int64"
            ]
          },
          "metadata": {
            "tags": []
          },
          "execution_count": 41
        }
      ]
    },
    {
      "cell_type": "code",
      "metadata": {
        "id": "dHP1Gqhv--04",
        "colab_type": "code",
        "colab": {
          "base_uri": "https://localhost:8080/",
          "height": 151
        },
        "outputId": "2dabdb35-423e-4038-8214-3ee6c3028ba1"
      },
      "source": [
        "bureau.isnull().sum()[bureau.isnull().sum()>0].sort_values(ascending=False)"
      ],
      "execution_count": 43,
      "outputs": [
        {
          "output_type": "execute_result",
          "data": {
            "text/plain": [
              "AMT_ANNUITY               1226791\n",
              "AMT_CREDIT_MAX_OVERDUE    1124488\n",
              "DAYS_ENDDATE_FACT          633653\n",
              "AMT_CREDIT_SUM_LIMIT       591780\n",
              "AMT_CREDIT_SUM_DEBT        257669\n",
              "DAYS_CREDIT_ENDDATE        105553\n",
              "AMT_CREDIT_SUM                 13\n",
              "dtype: int64"
            ]
          },
          "metadata": {
            "tags": []
          },
          "execution_count": 43
        }
      ]
    },
    {
      "cell_type": "code",
      "metadata": {
        "id": "t58x0552_GZ3",
        "colab_type": "code",
        "colab": {
          "base_uri": "https://localhost:8080/",
          "height": 319
        },
        "outputId": "f92af06b-8a91-4fa6-b06e-33d9f4529f55"
      },
      "source": [
        "bureau.dtypes"
      ],
      "execution_count": 39,
      "outputs": [
        {
          "output_type": "execute_result",
          "data": {
            "text/plain": [
              "SK_ID_CURR                  int64\n",
              "SK_ID_BUREAU                int64\n",
              "CREDIT_ACTIVE              object\n",
              "CREDIT_CURRENCY            object\n",
              "DAYS_CREDIT                 int64\n",
              "CREDIT_DAY_OVERDUE          int64\n",
              "DAYS_CREDIT_ENDDATE       float64\n",
              "DAYS_ENDDATE_FACT         float64\n",
              "AMT_CREDIT_MAX_OVERDUE    float64\n",
              "CNT_CREDIT_PROLONG          int64\n",
              "AMT_CREDIT_SUM            float64\n",
              "AMT_CREDIT_SUM_DEBT       float64\n",
              "AMT_CREDIT_SUM_LIMIT      float64\n",
              "AMT_CREDIT_SUM_OVERDUE    float64\n",
              "CREDIT_TYPE                object\n",
              "DAYS_CREDIT_UPDATE          int64\n",
              "AMT_ANNUITY               float64\n",
              "dtype: object"
            ]
          },
          "metadata": {
            "tags": []
          },
          "execution_count": 39
        }
      ]
    },
    {
      "cell_type": "code",
      "metadata": {
        "id": "wEuAYHWA_MkA",
        "colab_type": "code",
        "colab": {
          "base_uri": "https://localhost:8080/",
          "height": 151
        },
        "outputId": "f112d337-10bc-4b67-fe9c-20dff942085f"
      },
      "source": [
        "bureau.isnull().sum()[bureau.isnull().sum()>0].sort_values(ascending=False)"
      ],
      "execution_count": 44,
      "outputs": [
        {
          "output_type": "execute_result",
          "data": {
            "text/plain": [
              "AMT_ANNUITY               1226791\n",
              "AMT_CREDIT_MAX_OVERDUE    1124488\n",
              "DAYS_ENDDATE_FACT          633653\n",
              "AMT_CREDIT_SUM_LIMIT       591780\n",
              "AMT_CREDIT_SUM_DEBT        257669\n",
              "DAYS_CREDIT_ENDDATE        105553\n",
              "AMT_CREDIT_SUM                 13\n",
              "dtype: int64"
            ]
          },
          "metadata": {
            "tags": []
          },
          "execution_count": 44
        }
      ]
    },
    {
      "cell_type": "code",
      "metadata": {
        "id": "obm3pwbf_jam",
        "colab_type": "code",
        "colab": {
          "base_uri": "https://localhost:8080/",
          "height": 34
        },
        "outputId": "96384d5e-67e7-4ddd-e07a-03f2ceb61d61"
      },
      "source": [
        "bureau_balance.isnull().sum()[bureau_balance.isnull().sum()>0].sort_values(ascending=False)"
      ],
      "execution_count": 45,
      "outputs": [
        {
          "output_type": "execute_result",
          "data": {
            "text/plain": [
              "Series([], dtype: int64)"
            ]
          },
          "metadata": {
            "tags": []
          },
          "execution_count": 45
        }
      ]
    },
    {
      "cell_type": "code",
      "metadata": {
        "id": "ZZoBZ5SY_vX-",
        "colab_type": "code",
        "colab": {
          "base_uri": "https://localhost:8080/",
          "height": 84
        },
        "outputId": "b498ee88-2813-4d24-ade6-9aea91313b5d"
      },
      "source": [
        "bureau_balance.dtypes"
      ],
      "execution_count": 46,
      "outputs": [
        {
          "output_type": "execute_result",
          "data": {
            "text/plain": [
              "SK_ID_BUREAU       int64\n",
              "MONTHS_BALANCE     int64\n",
              "STATUS            object\n",
              "dtype: object"
            ]
          },
          "metadata": {
            "tags": []
          },
          "execution_count": 46
        }
      ]
    },
    {
      "cell_type": "markdown",
      "metadata": {
        "id": "AUcEGorjDAoJ",
        "colab_type": "text"
      },
      "source": [
        "# We will be using https://www.kaggle.com/volodymyrholomb/xgbmodel-on-base-features method for preprocessing "
      ]
    },
    {
      "cell_type": "code",
      "metadata": {
        "id": "N4p_lGXi_-yV",
        "colab_type": "code",
        "colab": {
          "base_uri": "https://localhost:8080/",
          "height": 17
        },
        "outputId": "c1632bd2-b6ac-4839-abd1-7d42091feb0f"
      },
      "source": [
        "application_train.set_index(\"SK_ID_CURR\",\n",
        "               drop=True,\n",
        "               inplace=True)\n",
        "\n",
        "application_test.set_index(\"SK_ID_CURR\",\n",
        "               drop=True,\n",
        "               inplace=True)\n",
        "\n",
        "full_set = pd.concat([application_train, application_test])\n",
        "\n",
        "bureau_mod = bureau.copy()\n",
        "\n",
        "closed = (bureau_balance\n",
        "          .groupby(\"SK_ID_BUREAU\")\n",
        "          .filter(lambda d: (d[\"STATUS\"] == \"C\").any())[\"SK_ID_BUREAU\"]\n",
        "          .unique())\n",
        "\n",
        "bureau_mod[\"CREDIT_ACTIVE\"] = [v if v != \"Active\" or i not in closed\n",
        "                               else \"Closed\" for v, i in\n",
        "                               list(zip(bureau_mod[\"CREDIT_ACTIVE\"],\n",
        "                                        bureau_mod[\"SK_ID_BUREAU\"]))]\n",
        "\n",
        "(bureau_mod[\"DAYS_CREDIT_ENDDATE\"]\n",
        " .fillna(bureau_mod[\"DAYS_ENDDATE_FACT\"],\n",
        "         inplace=True))\n",
        "\n",
        "def get_loan_balance(df):\n",
        "    out = df.loc[(df[\"CREDIT_ACTIVE\"] == \"Active\") &\n",
        "                 (df[\"DAYS_CREDIT_ENDDATE\"] > 0), :].copy()\n",
        "\n",
        "    return ((out[\"DAYS_CREDIT_ENDDATE\"] /\n",
        "             (out[\"DAYS_CREDIT\"].abs() +\n",
        "              out[\"DAYS_CREDIT_ENDDATE\"]) *\n",
        "             out[\"AMT_CREDIT_SUM\"]).sum())\n",
        "\n",
        "bureau_mod_gr = bureau_mod.groupby(\"SK_ID_CURR\")\n",
        "\n",
        "bureau_curr = pd.DataFrame(index=application_train.index.tolist() + application_test.index.tolist())\n",
        "\n",
        "bureau_curr[\"loan_num\"] = bureau_mod_gr.size()\n",
        "\n",
        "bureau_curr[\"loan_act\"] = (bureau_mod_gr\n",
        "                           .apply(lambda d:\n",
        "                                  (d[\"CREDIT_ACTIVE\"] == \"Active\").sum()))\n",
        "\n",
        "bureau_curr[\"loan_ovd\"] = (bureau_mod_gr\n",
        "                           .apply(lambda d:\n",
        "                                  (d[\"CREDIT_DAY_OVERDUE\"] != 0).sum()))\n",
        "\n",
        "bureau_curr[\"loan_bal\"] = (bureau_mod_gr\n",
        "                           .apply(get_loan_balance))\n",
        "\n",
        "bureau_curr.fillna(0,\n",
        "                   axis=0,\n",
        "                   inplace=True)\n",
        "\n",
        "p_apps_mod = (previous_application\n",
        "              .loc[(previous_application[\"SK_ID_CURR\"]\n",
        "                      .isin(full_set.index)), :]\n",
        "              .query(\"FLAG_LAST_APPL_PER_CONTRACT == 'Y'\\\n",
        "                      and NFLAG_LAST_APPL_IN_DAY == '1'\")\n",
        "              .copy())\n",
        "\n",
        "overdued = (installments_payments\n",
        "            .groupby(\"SK_ID_PREV\")\n",
        "            .apply(lambda d:\n",
        "                   (d[d[\"DAYS_ENTRY_PAYMENT\"] > d[\"DAYS_INSTALMENT\"]]\n",
        "                    .sum())\n",
        "                   .any())\n",
        "            .rename(\"is_overdued\"))\n",
        "\n",
        "\n",
        "p_apps_mod = pd.merge(left=p_apps_mod,\n",
        "                      right=overdued,\n",
        "                      how=\"left\",\n",
        "                      left_on=\"SK_ID_PREV\",\n",
        "                      right_index=True)\n",
        "\n",
        "exceeded = (credit_card_balance\n",
        "            .groupby(\"SK_ID_PREV\")\n",
        "            .apply(lambda d:\n",
        "                   (d[d[\"AMT_BALANCE\"] > d[\"AMT_CREDIT_LIMIT_ACTUAL\"]]\n",
        "                    .astype(\"bool\")\n",
        "                    .sum())\n",
        "                   .any())\n",
        "            .rename(\"limit_exceeded\"))\n",
        "\n",
        "\n",
        "p_apps_mod = pd.merge(left=p_apps_mod,\n",
        "                      right=exceeded,\n",
        "                      how=\"left\",\n",
        "                      left_on=\"SK_ID_PREV\",\n",
        "                      right_index=True)\n",
        "\n",
        "\n",
        "\n",
        "p_apps_mod_gr = p_apps_mod.groupby(\"SK_ID_CURR\")\n",
        "\n",
        "p_apps_curr = pd.DataFrame(index=application_train.index.tolist() + application_test.index.tolist())\n",
        "\n",
        "p_apps_curr[\"hc_loan_num\"] = (p_apps_mod_gr\n",
        "                              .apply(lambda d:\n",
        "                                     (d[\"NAME_CONTRACT_STATUS\"] == \"Approved\")\n",
        "                                     .sum()))\n",
        "\n",
        "p_apps_curr[\"hc_loan_num_type\"] = (p_apps_mod_gr\n",
        "                                   .apply(lambda d:\n",
        "                                          ((d[\"NAME_CONTRACT_STATUS\"] ==\n",
        "                                            \"Approved\") & (d[\"NAME_CONTRACT_TYPE\"] ==\n",
        "                                                              full_set.at[d[\"SK_ID_CURR\"]\n",
        "                                                                      .iloc[0],\n",
        "                                                                      \"NAME_CONTRACT_TYPE\"]))\n",
        "                                          .sum()))\n",
        "\n",
        "\n",
        "\n",
        "\n",
        "p_apps_curr[\"hc_ref_num\"] = (p_apps_mod_gr\n",
        "                             .apply(lambda d:\n",
        "                                    (d[\"NAME_CONTRACT_STATUS\"] == \"Refused\")\n",
        "                                    .sum()))\n",
        "\n",
        "p_apps_curr[\"hc_ref_num_type\"] = (p_apps_mod_gr\n",
        "                                  .apply(lambda d:\n",
        "                                         ((d[\"NAME_CONTRACT_STATUS\"] ==\n",
        "                                          \"Refused\") & (d[\"NAME_CONTRACT_TYPE\"] ==\n",
        "                                                             full_set.at[d[\"SK_ID_CURR\"]\n",
        "                                                                     .iloc[0],\n",
        "                                                                     \"NAME_CONTRACT_TYPE\"]))\n",
        "                                         .sum()))\n",
        "\n",
        "\n",
        "p_apps_curr[\"hc_loan_ovd\"] = (p_apps_mod_gr\n",
        "                              .apply(lambda d:\n",
        "                                     ((d[\"NAME_CONTRACT_STATUS\"] == \"Approved\") &\n",
        "                                      (d[\"is_overdued\"]))\n",
        "                                     .sum()))\n",
        "\n",
        "p_apps_curr[\"hc_loan_ovd_type\"] = (p_apps_mod_gr\n",
        "                                   .apply(lambda d:\n",
        "                                          ((d[\"NAME_CONTRACT_STATUS\"] ==\n",
        "                                            \"Approved\") & (d[\"is_overdued\"]) &\n",
        "                                           (d[\"NAME_CONTRACT_TYPE\"] ==\n",
        "                                            full_set.at[d[\"SK_ID_CURR\"]\n",
        "                                                    .iloc[0],\n",
        "                                                    \"NAME_CONTRACT_TYPE\"]))\n",
        "                                          .sum()))\n",
        "\n",
        "\n",
        "p_apps_curr[\"hc_loan_amt\"] = (p_apps_mod_gr\n",
        "                              .apply(lambda d:\n",
        "                                     d.loc[d[\"NAME_CONTRACT_STATUS\"] == \"Approved\",\n",
        "                                                \"AMT_CREDIT\"].sum()))\n",
        "\n",
        "p_apps_curr[\"hc_loan_amt_type\"] = (p_apps_mod_gr\n",
        "                                   .apply(lambda d:\n",
        "                                          d.loc[(d[\"NAME_CONTRACT_STATUS\"] == \"Approved\") &\n",
        "                                                (d[\"NAME_CONTRACT_TYPE\"] ==\n",
        "                                                 full_set.at[d[\"SK_ID_CURR\"]\n",
        "                                                         .iloc[0],\n",
        "                                                         \"NAME_CONTRACT_TYPE\"]),\n",
        "                                                \"AMT_CREDIT\"].sum()))\n",
        "\n",
        "\n",
        "p_apps_curr[\"has_lim_exceeded\"] = (p_apps_mod_gr\n",
        "                                   .apply(lambda d:\n",
        "                                          ((d[\"NAME_CONTRACT_STATUS\"] ==\n",
        "                                            \"Approved\") & (d[\"limit_exceeded\"]))\n",
        "                                          .sum()))\n",
        "\n",
        "p_apps_curr.fillna(0,\n",
        "                   axis=0,\n",
        "                   inplace=True)\n",
        "\n",
        "\n",
        "data = (application_train\n",
        "        .join(bureau_curr)\n",
        "        .join(p_apps_curr))\n",
        "\n",
        "test = (application_test\n",
        "        .join(bureau_curr)\n",
        "        .join(p_apps_curr))"
      ],
      "execution_count": 59,
      "outputs": [
        {
          "output_type": "display_data",
          "data": {
            "application/javascript": [
              "\n",
              "        if (window._pyforest_update_imports_cell) { window._pyforest_update_imports_cell('import matplotlib.pyplot as plt\\nimport altair as alt\\nimport pickle\\nimport xgboost as xgb\\nimport plotly as py\\nimport pandas as pd\\nimport bokeh\\nimport pydot\\nimport plotly.express as px'); }\n",
              "    "
            ],
            "text/plain": [
              "<IPython.core.display.Javascript object>"
            ]
          },
          "metadata": {
            "tags": []
          }
        },
        {
          "output_type": "display_data",
          "data": {
            "application/javascript": [
              "\n",
              "        if (window._pyforest_update_imports_cell) { window._pyforest_update_imports_cell('import matplotlib.pyplot as plt\\nimport altair as alt\\nimport pickle\\nimport xgboost as xgb\\nimport plotly as py\\nimport pandas as pd\\nimport bokeh\\nimport pydot\\nimport plotly.express as px'); }\n",
              "    "
            ],
            "text/plain": [
              "<IPython.core.display.Javascript object>"
            ]
          },
          "metadata": {
            "tags": []
          }
        },
        {
          "output_type": "display_data",
          "data": {
            "application/javascript": [
              "\n",
              "        if (window._pyforest_update_imports_cell) { window._pyforest_update_imports_cell('import matplotlib.pyplot as plt\\nimport altair as alt\\nimport pickle\\nimport xgboost as xgb\\nimport plotly as py\\nimport pandas as pd\\nimport bokeh\\nimport pydot\\nimport plotly.express as px'); }\n",
              "    "
            ],
            "text/plain": [
              "<IPython.core.display.Javascript object>"
            ]
          },
          "metadata": {
            "tags": []
          }
        },
        {
          "output_type": "display_data",
          "data": {
            "application/javascript": [
              "\n",
              "        if (window._pyforest_update_imports_cell) { window._pyforest_update_imports_cell('import matplotlib.pyplot as plt\\nimport altair as alt\\nimport pickle\\nimport xgboost as xgb\\nimport plotly as py\\nimport pandas as pd\\nimport bokeh\\nimport pydot\\nimport plotly.express as px'); }\n",
              "    "
            ],
            "text/plain": [
              "<IPython.core.display.Javascript object>"
            ]
          },
          "metadata": {
            "tags": []
          }
        },
        {
          "output_type": "display_data",
          "data": {
            "application/javascript": [
              "\n",
              "        if (window._pyforest_update_imports_cell) { window._pyforest_update_imports_cell('import matplotlib.pyplot as plt\\nimport altair as alt\\nimport pickle\\nimport xgboost as xgb\\nimport plotly as py\\nimport pandas as pd\\nimport bokeh\\nimport pydot\\nimport plotly.express as px'); }\n",
              "    "
            ],
            "text/plain": [
              "<IPython.core.display.Javascript object>"
            ]
          },
          "metadata": {
            "tags": []
          }
        }
      ]
    },
    {
      "cell_type": "code",
      "metadata": {
        "id": "iq-6M_kOD2E2",
        "colab_type": "code",
        "colab": {}
      },
      "source": [
        "cols_to_impute_w_null = [\"AMT_GOODS_PRICE\",\n",
        "                         \"OBS_30_CNT_SOCIAL_CIRCLE\",\n",
        "                         \"DEF_30_CNT_SOCIAL_CIRCLE\",\n",
        "                         \"OBS_60_CNT_SOCIAL_CIRCLE\",\n",
        "                         \"DEF_60_CNT_SOCIAL_CIRCLE\",\n",
        "                         \"OWN_CAR_AGE\",\n",
        "                         \"AMT_REQ_CREDIT_BUREAU_HOUR\",\n",
        "                         \"AMT_REQ_CREDIT_BUREAU_DAY\",\n",
        "                         \"AMT_REQ_CREDIT_BUREAU_WEEK\",\n",
        "                         \"AMT_REQ_CREDIT_BUREAU_MON\",\n",
        "                         \"AMT_REQ_CREDIT_BUREAU_QRT\",\n",
        "                         \"AMT_REQ_CREDIT_BUREAU_YEAR\"]\n",
        "\n",
        "apartments_cols = data.columns[data.columns\n",
        "                               .str.endswith((\"_AVG\", \"_MODE\", \"_MEDI\"))]\n",
        "\n",
        "ext_source_cols = data.columns[data.columns\n",
        "                               .str.startswith(\"EXT_\")]\n",
        "\n",
        "\n",
        "occu_gr_cols = [\"NAME_INCOME_TYPE\",\n",
        "                \"NAME_EDUCATION_TYPE\",\n",
        "                \"CODE_GENDER\",\n",
        "                \"ORGANIZATION_TYPE\"]\n",
        "\n",
        "exp_gr_cols = [\"ORGANIZATION_TYPE\", \"OCCUPATION_TYPE\"]\n",
        "\n",
        "cols_to_discretize = [\"AMT_INCOME_TOTAL\",\n",
        "                      \"AMT_CREDIT\",\n",
        "                      \"AMT_ANNUITY\",\n",
        "                      \"AMT_GOODS_PRICE\",\n",
        "                      \"loan_bal\",\n",
        "                      \"hc_loan_amt\",\n",
        "                      \"hc_loan_amt_type\"]\n",
        "\n",
        "cols_to_drop = (apartments_cols.tolist() +\n",
        "                ext_source_cols.tolist() +\n",
        "                [\"EXP_GR_MAX\", \"EXP_GR_MIN\"])\n",
        "\n",
        "class SimpleColumnsAdder(BaseEstimator):\n",
        "\n",
        "    def __init__(self, apartment_cols, cols_to_drop):\n",
        "        self.apartment_cols = apartment_cols\n",
        "        self.cols_to_drop = cols_to_drop\n",
        "\n",
        "\n",
        "    def fit(self, X, y=None, **fit_params):\n",
        "        return self\n",
        "\n",
        "\n",
        "    def transform(self, X, **transform_params):\n",
        "        X.loc[:, \"APART_DESC_INTEGRITY\"] = (1 - X[self.apartment_cols]\n",
        "                                            .isnull().mean(axis=1))\n",
        "        X.loc[:, \"GOODS_RATIO\"] = (X.apply(lambda row:\n",
        "                                           0 if np.isnan(row[\"AMT_GOODS_PRICE\"])\n",
        "                                           else (row[\"AMT_GOODS_PRICE\"] /\n",
        "                                                 row[\"AMT_CREDIT\"]), axis=1))\n",
        "        X = X.eval(\"ANNUITY_RATIO = AMT_ANNUITY / AMT_INCOME_TOTAL\")\n",
        "        X.drop(self.cols_to_drop, axis=1, inplace=True)\n",
        "        return X\n",
        "\n",
        "class ExtSourceIntegrity(BaseEstimator):\n",
        "\n",
        "    def __init__(self, ext_source_cols):\n",
        "        self.ext_source_cols = ext_source_cols\n",
        "\n",
        "\n",
        "    def fit(self, X, y=None, **fit_params):\n",
        "        return self\n",
        "\n",
        "\n",
        "    def transform(self, X, **transform_params):\n",
        "        X.loc[:, \"EXT_SOURCE_INTEGRITY\"] = (X.apply(lambda row: 0\n",
        "                                                    if (row[self.ext_source_cols]\n",
        "                                                        .isnull().sum() == 3)\n",
        "                                                    else (row[self.ext_source_cols]\n",
        "                                                          .mean() *\n",
        "                                                     (1 - row[self.ext_source_cols]\n",
        "                                                      .isnull().mean())), axis=1))\n",
        "        return X\n",
        "\n",
        "class OccupationsImputer(BaseEstimator):\n",
        "\n",
        "    def __init__(self, occu_gr_cols, occupations=None):\n",
        "        self.occu_gr_cols = occu_gr_cols\n",
        "        self.occupations = occupations\n",
        "\n",
        "\n",
        "    def fit(self, X, y=None, **fit_params):\n",
        "        self.occupations = (X\n",
        "                            .groupby(self.occu_gr_cols)[\"OCCUPATION_TYPE\"]\n",
        "                            .apply(lambda d:\n",
        "                                   d.value_counts(dropna=False).index[0])\n",
        "                            .replace(np.nan, \"Missed\"))\n",
        "        return self\n",
        "\n",
        "    def transform(self, X, **transform_params):\n",
        "        X.reset_index(inplace=True)\n",
        "        X.set_index(self.occu_gr_cols, inplace=True)\n",
        "        X.update(self.occupations)\n",
        "        X.reset_index(inplace=True)\n",
        "        X.set_index([\"SK_ID_CURR\"], inplace=True)\n",
        "        return X\n",
        "\n",
        "class DaysEmployedNormalizer(BaseEstimator):\n",
        "\n",
        "    def __init__(self, exp_gr_cols, exp_gr_range=None):\n",
        "        self.exp_gr_cols = exp_gr_cols\n",
        "        self.exp_gr_range = exp_gr_range\n",
        "\n",
        "\n",
        "    def fit(self, X, y=None, **fit_params):\n",
        "        self.exp_gr_range = (X\n",
        "                             .groupby(self.exp_gr_cols)[\"DAYS_EMPLOYED\"]\n",
        "                             .agg([\"min\", \"max\"]))\n",
        "        self.exp_gr_range.columns = [\"EXP_GR_MAX\", \"EXP_GR_MIN\"]\n",
        "        return self\n",
        "\n",
        "    def transform(self, X, **transform_params):\n",
        "        X = pd.merge(left=X,\n",
        "                     right=self.exp_gr_range,\n",
        "                     how=\"left\",\n",
        "                     left_on=self.exp_gr_cols,\n",
        "                     right_index=True)\n",
        "        X.loc[:, \"DAYS_EMPLOYED_GR_NORM\"] = X.apply(lambda row: 0\n",
        "                                                    if (row[\"EXP_GR_MAX\"] ==\n",
        "                                                        row[\"EXP_GR_MIN\"]) else\n",
        "                                                    ((row[\"DAYS_EMPLOYED\"] -\n",
        "                                                      row[\"EXP_GR_MIN\"]) /\n",
        "                                                     (row[\"EXP_GR_MAX\"] -\n",
        "                                                      row[\"EXP_GR_MIN\"])), axis=1)\n",
        "        return X\n",
        "\n",
        "class CustomOHEncoder(BaseEstimator):\n",
        "\n",
        "    def __init__(self, cols=None):\n",
        "        self.cols = cols\n",
        "\n",
        "\n",
        "    def fit(self, X, y=None, **fit_params):\n",
        "        self.cols = [re.compile(r\"\\[|\\]|<\", re.IGNORECASE).sub(\"_\", col)\n",
        "                     if any(x in str(col) for x in set((\"[\", \"]\", \"<\")))\n",
        "                     else col for col in pd.get_dummies(X).columns.values]\n",
        "        return self\n",
        "\n",
        "\n",
        "    def transform(self, X, **transform_params):\n",
        "        df = pd.get_dummies(X)\n",
        "        for c in self.cols:\n",
        "            if c not in df:\n",
        "                df[c] = 0\n",
        "        return df[self.cols]\n",
        "\n",
        "class CustomImputer(BaseEstimator):\n",
        "\n",
        "    def __init__(self, cols, strategy=\"constant\", fill_value=None):\n",
        "        self.strategy = strategy\n",
        "        self.fill_value = fill_value\n",
        "        self.cols = cols\n",
        "\n",
        "\n",
        "    def fit(self, X, y=None, **fit_params):\n",
        "        if self.strategy == \"constant\":\n",
        "            self.fill_value = 0\n",
        "        elif self.strategy == \"mode\":\n",
        "            self.fill_value = X[self.cols].mode()[0]\n",
        "        return self\n",
        "\n",
        "\n",
        "    def transform(self, X, **transform_params):\n",
        "        X.loc[:, self.cols] = X[self.cols].fillna(self.fill_value)\n",
        "        return X\n",
        "\n",
        "class CustomQuantileDiscretizer(BaseEstimator):\n",
        "\n",
        "    def __init__(self, cols, col_bins=None, q=50):\n",
        "        self.cols = cols\n",
        "        self.col_bins = col_bins\n",
        "        self.q = q\n",
        "\n",
        "\n",
        "    def fit(self, X, y=None, **fit_params):\n",
        "        self.col_bins = {}\n",
        "        for col in self.cols:\n",
        "            vals, bins = pd.qcut(x=X[col],\n",
        "                                 q=self.q,\n",
        "                                 duplicates=\"drop\",\n",
        "                                 precision=0,\n",
        "                                 retbins=True)\n",
        "            self.col_bins.update({col: bins})\n",
        "        return self\n",
        "\n",
        "\n",
        "    def transform(self, X, **transform_params):\n",
        "        for col in self.cols:\n",
        "            X.loc[:, col] = pd.cut(X[col], self.col_bins[col])\n",
        "        return X\n",
        "\n"
      ],
      "execution_count": null,
      "outputs": []
    },
    {
      "cell_type": "markdown",
      "metadata": {
        "id": "AVex-pEDHYLO",
        "colab_type": "text"
      },
      "source": [
        "# Testing different Algorithms using above pipeline"
      ]
    },
    {
      "cell_type": "code",
      "metadata": {
        "id": "33cWdJ9LEzJ7",
        "colab_type": "code",
        "colab": {}
      },
      "source": [
        "n_trees = 100\n",
        "ada = AdaBoostClassifier(n_estimators=n_trees)\n",
        "bag = BaggingClassifier(n_estimators=n_trees)\n",
        "rf = RandomForestClassifier(n_estimators=n_trees)\n",
        "et = ExtraTreesClassifier(n_estimators=n_trees)\n",
        "gbm = GradientBoostingClassifier(n_estimators=n_trees)\n",
        "target = data[\"TARGET\"].value_counts()\n",
        "spw = target[0] / target[1]\n",
        "xgb_model = XGBClassifier(random_state=1234,\n",
        "                          objective=\"binary:logistic\",\n",
        "                          scale_pos_weight=spw,                          \n",
        "                          n_jobs=-1)\n",
        "model_pipe = Pipeline(\n",
        "    steps=[\n",
        "        (\"impute_nums\", CustomImputer(strategy=\"constant\",\n",
        "                                         cols=cols_to_impute_w_null)),\n",
        "        (\"impute_cats\",CustomImputer(strategy=\"mode\",\n",
        "                                        cols=\"NAME_TYPE_SUITE\")),\n",
        "        (\"get_ext_source_integrity\", ExtSourceIntegrity(ext_source_cols)),\n",
        "        (\"impute_occupations\", OccupationsImputer(occu_gr_cols)),\n",
        "        (\"normalize_days_employed\", DaysEmployedNormalizer(exp_gr_cols)),\n",
        "        (\"get_apart_desc_integrity\", SimpleColumnsAdder(apartments_cols,\n",
        "                                                           cols_to_drop)),\n",
        "        (\"dicretize_amt\", CustomQuantileDiscretizer(cols_to_discretize)),\n",
        "        (\"oh_encoding\", CustomOHEncoder()),\n",
        "        (\"xgb_model\", xgb_model),\n",
        "        (\"ada\", ada),\n",
        "        (\"bag\", bag),\n",
        "        (\"rf\", rf),\n",
        "        (\"et\", et),\n",
        "        (\"gbm\", gbm)\n",
        "        ])"
      ],
      "execution_count": null,
      "outputs": []
    },
    {
      "cell_type": "code",
      "metadata": {
        "id": "_t-A5pRMI29e",
        "colab_type": "code",
        "colab": {}
      },
      "source": [
        "def evaluate_model(X, y, model, folds, metric):\n",
        "\t# create the pipeline\n",
        "\tpipeline = make_pipeline(model)\n",
        "\t# evaluate model\n",
        "\tscores = cross_val_score(pipeline, X, y, scoring=metric, cv=folds, n_jobs=-1)\n",
        "\treturn scores"
      ],
      "execution_count": 60,
      "outputs": []
    }
  ]
}