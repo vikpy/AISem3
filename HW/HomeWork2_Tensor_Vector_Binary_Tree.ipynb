{
  "nbformat": 4,
  "nbformat_minor": 0,
  "metadata": {
    "colab": {
      "name": "HomeWork2_Tensor_Vector_Binary_Tree.ipynb",
      "provenance": [],
      "collapsed_sections": [],
      "authorship_tag": "ABX9TyMK3Eba7eLljC1Yl36zVpv2",
      "include_colab_link": true
    },
    "kernelspec": {
      "name": "python3",
      "display_name": "Python 3"
    }
  },
  "cells": [
    {
      "cell_type": "markdown",
      "metadata": {
        "id": "view-in-github",
        "colab_type": "text"
      },
      "source": [
        "<a href=\"https://colab.research.google.com/github/vikpy/AISem3/blob/master/HW/HomeWork2_Tensor_Vector_Binary_Tree.ipynb\" target=\"_parent\"><img src=\"https://colab.research.google.com/assets/colab-badge.svg\" alt=\"Open In Colab\"/></a>"
      ]
    },
    {
      "cell_type": "markdown",
      "metadata": {
        "id": "VTbzYIZBXZfi"
      },
      "source": [
        "# Q1. Difference and Similarity between tensors and vectors \n",
        "\n",
        "**Difference**: Tensors are n indices and mxn components in a mth dimensional space and nth rank tensor. Tensors are just generalization of scalar representation of object. Tensors have certain set of Linear operations or Transformations. \n",
        "A vector is an object that has both a magnitude and a direction. Thus vector can be also be defined using a fixed set of basis vector as well. \n",
        "\n",
        "**Similarirty**: As mentioned before tensors have certain set transformations. Based on rank of the tensor it can be classified as follows:\n",
        "Objects that transform like **zeroth-rank tensors** are called scalars, those that transform like **first-rank tensors** are called vectors, and those that transform like **second-rank tensors** are called matrices. In tensor notation, a vector v would be written v_i, where i=1, ..., m, and matrix is a tensor of type (1,1), which would be written a_i^j in tensor notation.\n",
        "\n",
        "Following image carves out the difference between difference objects used on Machine Learning very clearly from computer science perspective. \n",
        "\n",
        "![Scalar, Vector, Matrix, Tensor](https://hadrienj.github.io/assets/images/2.1/scalar-vector-matrix-tensor.png)\n",
        "\n",
        "Reference: [Tensors(Wolfram Mathworld)](https://mathworld.wolfram.com/Tensor.html)\n",
        "\n",
        "\n"
      ]
    },
    {
      "cell_type": "markdown",
      "metadata": {
        "id": "kP9e5vbhXmqo"
      },
      "source": [
        "# Q2. Difference between tensor data (tensorflow)object vs ndarray(Numpy) including operations , execution time and other relevant properties\n",
        "\n",
        "\n",
        "\n",
        "References:\n",
        "\n",
        "1. https://www.tensorflow.org/guide/tensor\n",
        "\n",
        "2. https://machinelearningmastery.com/introduction-to-tensors-for-machine-learning/\n",
        "\n",
        "3. https://simplyml.com/linear-algebra-shootout-numpy-vs-theano-vs-tensorflow-2/\n",
        "\n",
        "\n",
        "LINK TO THE PRESENTATION:\n",
        "\n",
        "https://github.com/vikpy/AISem3/blob/master/HW/tensorflow_numpy.pdf"
      ]
    },
    {
      "cell_type": "code",
      "metadata": {
        "id": "uy1hXi00dVF_",
        "outputId": "5d1ec7e5-7c3b-4465-9d2c-98d8f4b083c3",
        "colab": {
          "base_uri": "https://localhost:8080/",
          "height": 34
        }
      },
      "source": [
        "import tensorflow as tf\n",
        "import numpy as np\n",
        "\n"
      ],
      "execution_count": null,
      "outputs": [
        {
          "output_type": "execute_result",
          "data": {
            "text/plain": [
              "numpy.ndarray"
            ]
          },
          "metadata": {
            "tags": []
          },
          "execution_count": 3
        }
      ]
    },
    {
      "cell_type": "markdown",
      "metadata": {
        "id": "xj1rx7HSf9TD"
      },
      "source": [
        "We will make 2 2 2 tensor and compare operations execution in tensorflow object"
      ]
    },
    {
      "cell_type": "code",
      "metadata": {
        "id": "hnFJ1ZRCqB_D",
        "outputId": "15421b4f-1a6a-4156-afeb-f3641babe5c8",
        "colab": {
          "base_uri": "https://localhost:8080/",
          "height": 218
        }
      },
      "source": [
        "# In tensorflow\n",
        "\n",
        "a_tf = tf.constant([[1, 2],\n",
        "                 [3, 4]])\n",
        "b_tf = tf.constant([[2, -1],\n",
        "                 [1, 7]]) # Could have also said `tf.ones([2,2])`\n",
        "\n",
        "print(tf.add(a_tf, b_tf), \"\\n\")\n",
        "print(tf.multiply(a_tf, b_tf), \"\\n\")\n",
        "print(tf.matmul(a_tf, b_tf), \"\\n\")"
      ],
      "execution_count": null,
      "outputs": [
        {
          "output_type": "stream",
          "text": [
            "tf.Tensor(\n",
            "[[ 3  1]\n",
            " [ 4 11]], shape=(2, 2), dtype=int32) \n",
            "\n",
            "tf.Tensor(\n",
            "[[ 2 -2]\n",
            " [ 3 28]], shape=(2, 2), dtype=int32) \n",
            "\n",
            "tf.Tensor(\n",
            "[[ 4 13]\n",
            " [10 25]], shape=(2, 2), dtype=int32) \n",
            "\n"
          ],
          "name": "stdout"
        }
      ]
    },
    {
      "cell_type": "code",
      "metadata": {
        "id": "HtC6ffRNqIxA",
        "outputId": "042600ef-8b94-4d69-9118-4de80b55b98e",
        "colab": {
          "base_uri": "https://localhost:8080/",
          "height": 218
        }
      },
      "source": [
        "# Alternatively\n",
        "print(a_tf + b_tf, \"\\n\") # element-wise addition\n",
        "print(a_tf * b_tf, \"\\n\") # element-wise multiplication\n",
        "print(a_tf @ b_tf, \"\\n\") # matrix multiplication"
      ],
      "execution_count": null,
      "outputs": [
        {
          "output_type": "stream",
          "text": [
            "tf.Tensor(\n",
            "[[ 3  1]\n",
            " [ 4 11]], shape=(2, 2), dtype=int32) \n",
            "\n",
            "tf.Tensor(\n",
            "[[ 2 -2]\n",
            " [ 3 28]], shape=(2, 2), dtype=int32) \n",
            "\n",
            "tf.Tensor(\n",
            "[[ 4 13]\n",
            " [10 25]], shape=(2, 2), dtype=int32) \n",
            "\n"
          ],
          "name": "stdout"
        }
      ]
    },
    {
      "cell_type": "code",
      "metadata": {
        "id": "H9IonbjzrgZS",
        "outputId": "39aa0769-a260-4432-9a44-7d90db72766a",
        "colab": {
          "base_uri": "https://localhost:8080/",
          "height": 168
        }
      },
      "source": [
        "from numpy import np\n",
        "a_np = np.array([[1, 2],\n",
        "          [3, 4]])\n",
        "b_np = np.array(\n",
        "     [[2, -1],\n",
        "     [1, 7]] \n",
        ")\n",
        "# Tensor operations similar to tf still works for numpy\n",
        "print(a_np + b_np, type(a_np + b_np),  \"\\n\") # element-wise addition  \n",
        "print(a_np * b_np,type(a_np + b_np), \"\\n\") # element-wise multiplication\n",
        "print(a_np @ b_np,type(a_np + b_np), \"\\n\") # matrix multiplication"
      ],
      "execution_count": null,
      "outputs": [
        {
          "output_type": "stream",
          "text": [
            "[[ 3  1]\n",
            " [ 4 11]] <class 'numpy.ndarray'> \n",
            "\n",
            "[[ 2 -2]\n",
            " [ 3 28]] <class 'numpy.ndarray'> \n",
            "\n",
            "[[ 4 13]\n",
            " [10 25]] <class 'numpy.ndarray'> \n",
            "\n"
          ],
          "name": "stdout"
        }
      ]
    },
    {
      "cell_type": "markdown",
      "metadata": {
        "id": "bSb-JLbTsl5d"
      },
      "source": [
        "We can also try tensor division"
      ]
    },
    {
      "cell_type": "code",
      "metadata": {
        "id": "go-VFVqhsseY",
        "outputId": "ac1e917a-347b-4aec-f549-9c136e131d11",
        "colab": {
          "base_uri": "https://localhost:8080/",
          "height": 134
        }
      },
      "source": [
        "print(a_np/b_np,type(a_np/b_np), \"\\n\")  # In numpy \n",
        "print(a_tf/b_tf,type(a_tf/b_tf), \"\\n\")  # In tensorflow "
      ],
      "execution_count": null,
      "outputs": [
        {
          "output_type": "stream",
          "text": [
            "[[ 0.5        -2.        ]\n",
            " [ 3.          0.57142857]] <class 'numpy.ndarray'> \n",
            "\n",
            "tf.Tensor(\n",
            "[[ 0.5        -2.        ]\n",
            " [ 3.          0.57142857]], shape=(2, 2), dtype=float64) <class 'tensorflow.python.framework.ops.EagerTensor'> \n",
            "\n"
          ],
          "name": "stdout"
        }
      ]
    },
    {
      "cell_type": "code",
      "metadata": {
        "id": "jgZ1dOxpy-y8",
        "outputId": "e05ed620-f81d-4e08-9a86-a72220c88968",
        "colab": {
          "base_uri": "https://localhost:8080/",
          "height": 218
        }
      },
      "source": [
        "#Tensor Dot Product using np array \n",
        "c_np = np.tensordot(a_np, b_np, axes=0)\n",
        "print(c_np, type(c_np))"
      ],
      "execution_count": null,
      "outputs": [
        {
          "output_type": "stream",
          "text": [
            "[[[[ 2 -1]\n",
            "   [ 1  7]]\n",
            "\n",
            "  [[ 4 -2]\n",
            "   [ 2 14]]]\n",
            "\n",
            "\n",
            " [[[ 6 -3]\n",
            "   [ 3 21]]\n",
            "\n",
            "  [[ 8 -4]\n",
            "   [ 4 28]]]] <class 'numpy.ndarray'>\n"
          ],
          "name": "stdout"
        }
      ]
    },
    {
      "cell_type": "code",
      "metadata": {
        "id": "tjEOcCDizMfd",
        "outputId": "f604ed17-80c1-4025-aa55-00af6babd288",
        "colab": {
          "base_uri": "https://localhost:8080/",
          "height": 235
        }
      },
      "source": [
        "#tensor dot is similar in tensorflow as well\n",
        "c_tf = tf.tensordot(a_tf, b_tf, axes=0)\n",
        "print(c_tf, type(c_tf))"
      ],
      "execution_count": null,
      "outputs": [
        {
          "output_type": "stream",
          "text": [
            "tf.Tensor(\n",
            "[[[[ 2 -1]\n",
            "   [ 1  7]]\n",
            "\n",
            "  [[ 4 -2]\n",
            "   [ 2 14]]]\n",
            "\n",
            "\n",
            " [[[ 6 -3]\n",
            "   [ 3 21]]\n",
            "\n",
            "  [[ 8 -4]\n",
            "   [ 4 28]]]], shape=(2, 2, 2, 2), dtype=int32) <class 'tensorflow.python.framework.ops.EagerTensor'>\n"
          ],
          "name": "stdout"
        }
      ]
    },
    {
      "cell_type": "markdown",
      "metadata": {
        "id": "h65vZ8r427NP"
      },
      "source": [
        "We will asses the speed for tensorflow and numpy "
      ]
    },
    {
      "cell_type": "code",
      "metadata": {
        "id": "qFzP3fs93BI4",
        "outputId": "e3b3087f-fe0c-4caf-b6fa-fa66c4c1ae77",
        "colab": {
          "base_uri": "https://localhost:8080/",
          "height": 34
        }
      },
      "source": [
        "import numpy\n",
        "import timeit\n",
        "A = numpy.random.rand(10, 10).astype(numpy.float32)\n",
        "B = numpy.random.rand(10, 10).astype(numpy.float32)\n",
        "\n",
        "timer = timeit.Timer(\"numpy.dot(A, B)\", \"import numpy; from __main__ import A, B\")\n",
        "numpy_times_list = timer.repeat()\n",
        "min(numpy_times_list)"
      ],
      "execution_count": null,
      "outputs": [
        {
          "output_type": "execute_result",
          "data": {
            "text/plain": [
              "1.456392951999078"
            ]
          },
          "metadata": {
            "tags": []
          },
          "execution_count": 44
        }
      ]
    },
    {
      "cell_type": "code",
      "metadata": {
        "id": "0_25IY_j_7Dy",
        "outputId": "1eae15db-f10c-4fd5-9d2b-1aa90e632a18",
        "colab": {
          "base_uri": "https://localhost:8080/",
          "height": 34
        }
      },
      "source": [
        "import tensorflow as tf\n",
        "\n",
        "A = tf.constant(A)\n",
        "B = tf.constant(B)\n",
        "\n",
        "timer = timeit.Timer(\"tf.matmul(A, B)\", setup=\"import tensorflow as tf; from __main__ import A, B\")\n",
        "tensorflow_times_list = timer.repeat()\n",
        "min(tensorflow_times_list)"
      ],
      "execution_count": null,
      "outputs": [
        {
          "output_type": "execute_result",
          "data": {
            "text/plain": [
              "16.763378783000007"
            ]
          },
          "metadata": {
            "tags": []
          },
          "execution_count": 57
        }
      ]
    },
    {
      "cell_type": "markdown",
      "metadata": {
        "id": "0tzrUApXBxDQ"
      },
      "source": [
        "# Q.3 Implement a complete binary tree with 5 implementations of a graph"
      ]
    },
    {
      "cell_type": "code",
      "metadata": {
        "id": "lq-I2Ne4B2uc"
      },
      "source": [
        "# different implementations of different Complete Binary tree structures for A B C D E F G H I J\n",
        "\n",
        "tree1 = [\n",
        "    ['A' , 'B', 'C'],\n",
        "\n",
        "    ['B', 'D', 'E'],\n",
        "\n",
        "    ['C', 'F', 'G'],\n",
        "\n",
        "    ['D', 'H', 'I'],\n",
        "\n",
        "    ['E', 'J'],\n",
        "    \n",
        "    ['H' ],\n",
        "\n",
        "    ['I' ],\n",
        "\n",
        "    ['J'],\n",
        "\n",
        "     ['F'],\n",
        "\n",
        "     ['G' ]\n",
        "\n",
        "]\n",
        "\n",
        "\n",
        "tree2 = [\n",
        "    ['A',  [ 'B', 'C'] ] ,\n",
        "\n",
        "    ['B', [ 'D', 'E'] ],\n",
        "\n",
        "    ['C', [ 'F', 'G'] ],\n",
        "\n",
        "    ['D', ['H', 'I'] ],\n",
        "\n",
        "    ['E', [ 'J']],\n",
        "\n",
        "\n",
        "    ['H' ,[]],\n",
        "\n",
        "    ['I' ,[]],\n",
        "\n",
        "    ['J' ,[]],\n",
        "\n",
        "     ['F' ,[]],\n",
        "\n",
        "     ['G',[]]\n",
        "\n",
        "]\n",
        "\n",
        "\n",
        "tree3 = [\n",
        "    ['A',  ( 'B', 'C') ] ,\n",
        "\n",
        "    ['B', ( 'D', 'E') ],\n",
        "\n",
        "    ['C', ( 'F', 'G') ],\n",
        "\n",
        "    ['D', ('H', 'I') ],\n",
        "\n",
        "    ['E', ('J') ],\n",
        "\n",
        "    ['H' ,()] ,\n",
        "\n",
        "    ['I' ,()],\n",
        "\n",
        "    ['J' ,() ],\n",
        "\n",
        "     ['F' ,() ],\n",
        "\n",
        "     ['G',()]\n",
        "]\n",
        "\n",
        "\n",
        "tree4 = (\n",
        "    ['A',  [ 'B', 'C'] ] ,\n",
        "\n",
        "    ['B', [ 'D', 'E'] ],\n",
        "\n",
        "    ['C', [ 'F', 'G'] ],\n",
        "\n",
        "    ['D', ['H', 'I'] ],\n",
        "\n",
        "    ['E', [ 'J']],\n",
        "\n",
        "    ['H' ,[]],\n",
        "\n",
        "    ['I' ,[]],\n",
        "\n",
        "    ['J' ,[]],\n",
        "\n",
        "     ['F' ,[]],\n",
        "\n",
        "     ['G',[]]\n",
        "\n",
        ")\n",
        "\n",
        "\n",
        "tree5 = {\n",
        "    'A':  [ 'B', 'C']  ,\n",
        "\n",
        "    'B': [ 'D', 'E'] ,\n",
        "\n",
        "    'C': [ 'F', 'G'] ,\n",
        "\n",
        "    'D': ['H', 'I'] ,\n",
        "\n",
        "    'E': ['J'],\n",
        "\n",
        "    'H' :[],\n",
        "\n",
        "    'I' :[],\n",
        "\n",
        "    'J' :[],\n",
        "\n",
        "     'F' :[],\n",
        "\n",
        "     'G':[]\n",
        "}\n",
        "\n",
        "\n",
        "\n",
        "\n",
        "def createTree(*nodes):\n",
        "  '''\n",
        "  pending\n",
        "  '''\n"
      ],
      "execution_count": null,
      "outputs": []
    },
    {
      "cell_type": "code",
      "metadata": {
        "id": "6wCvGQQWVI3J",
        "outputId": "d015c3c6-e920-42bd-f128-54db798e208a",
        "colab": {
          "base_uri": "https://localhost:8080/",
          "height": 182
        }
      },
      "source": [
        "# Generating a graph using adjacency matrix \n",
        "import numpy as np\n",
        "\n",
        "graph_nodes = ['A', 'B', 'C', 'D']\n",
        "\n",
        "matrix = np.zeros( (len(graph_nodes), len(graph_nodes)) ).astype(int)\n",
        "\n",
        "for i in range(len(graph_nodes)):\n",
        "  for j in range(i):\n",
        "    matrix[i,j] = np.random.randint(0,2)\n",
        "    matrix[j,i] = matrix[i,j]\n",
        "\n",
        "import pandas as pd\n",
        "print(\"Graph:\")\n",
        "pd.DataFrame(matrix, columns =graph_nodes, index=graph_nodes )"
      ],
      "execution_count": 1,
      "outputs": [
        {
          "output_type": "stream",
          "text": [
            "Graph:\n"
          ],
          "name": "stdout"
        },
        {
          "output_type": "execute_result",
          "data": {
            "text/html": [
              "<div>\n",
              "<style scoped>\n",
              "    .dataframe tbody tr th:only-of-type {\n",
              "        vertical-align: middle;\n",
              "    }\n",
              "\n",
              "    .dataframe tbody tr th {\n",
              "        vertical-align: top;\n",
              "    }\n",
              "\n",
              "    .dataframe thead th {\n",
              "        text-align: right;\n",
              "    }\n",
              "</style>\n",
              "<table border=\"1\" class=\"dataframe\">\n",
              "  <thead>\n",
              "    <tr style=\"text-align: right;\">\n",
              "      <th></th>\n",
              "      <th>A</th>\n",
              "      <th>B</th>\n",
              "      <th>C</th>\n",
              "      <th>D</th>\n",
              "    </tr>\n",
              "  </thead>\n",
              "  <tbody>\n",
              "    <tr>\n",
              "      <th>A</th>\n",
              "      <td>0</td>\n",
              "      <td>0</td>\n",
              "      <td>1</td>\n",
              "      <td>1</td>\n",
              "    </tr>\n",
              "    <tr>\n",
              "      <th>B</th>\n",
              "      <td>0</td>\n",
              "      <td>0</td>\n",
              "      <td>1</td>\n",
              "      <td>1</td>\n",
              "    </tr>\n",
              "    <tr>\n",
              "      <th>C</th>\n",
              "      <td>1</td>\n",
              "      <td>1</td>\n",
              "      <td>0</td>\n",
              "      <td>1</td>\n",
              "    </tr>\n",
              "    <tr>\n",
              "      <th>D</th>\n",
              "      <td>1</td>\n",
              "      <td>1</td>\n",
              "      <td>1</td>\n",
              "      <td>0</td>\n",
              "    </tr>\n",
              "  </tbody>\n",
              "</table>\n",
              "</div>"
            ],
            "text/plain": [
              "   A  B  C  D\n",
              "A  0  0  1  1\n",
              "B  0  0  1  1\n",
              "C  1  1  0  1\n",
              "D  1  1  1  0"
            ]
          },
          "metadata": {
            "tags": []
          },
          "execution_count": 1
        }
      ]
    },
    {
      "cell_type": "markdown",
      "metadata": {
        "id": "D89Ux_bmRdrA"
      },
      "source": [
        "#Q4. Implement DFS in the binary tree to search for a node based on user input"
      ]
    },
    {
      "cell_type": "code",
      "metadata": {
        "id": "LkrRqfiXY4eJ",
        "outputId": "63066bb1-9a40-46af-9eab-5b8c2ee7330d",
        "colab": {
          "base_uri": "https://localhost:8080/",
          "height": 386
        }
      },
      "source": [
        "def dfs(traversed, graph, node):\n",
        "    '''\n",
        "    Recursive function implementing DFS \n",
        "    '''\n",
        "    if node not in traversed:\n",
        "        print(f'Node Name {node}')\n",
        "        traversed.add(node)\n",
        "        for adjacent_node in graph[node]:\n",
        "            print(f'Adjacent of Node: {node} is {adjacent_node}')\n",
        "            dfs(traversed, graph, adjacent_node)\n",
        "traversed = set()\n",
        "print(\"-\"*100)\n",
        "print(\"Traversal:\")\n",
        "dfs(traversed, tree5, 'A')\n",
        "print(\"-\"*100)"
      ],
      "execution_count": null,
      "outputs": [
        {
          "output_type": "stream",
          "text": [
            "----------------------------------------------------------------------------------------------------\n",
            "Traversal:\n",
            "Node Name A\n",
            "Adjacent of Node: A is B\n",
            "Node Name B\n",
            "Adjacent of Node: B is D\n",
            "Node Name D\n",
            "Adjacent of Node: D is H\n",
            "Node Name H\n",
            "Adjacent of Node: D is I\n",
            "Node Name I\n",
            "Adjacent of Node: B is E\n",
            "Node Name E\n",
            "Adjacent of Node: E is J\n",
            "Node Name J\n",
            "Adjacent of Node: A is C\n",
            "Node Name C\n",
            "Adjacent of Node: C is F\n",
            "Node Name F\n",
            "Adjacent of Node: C is G\n",
            "Node Name G\n",
            "----------------------------------------------------------------------------------------------------\n"
          ],
          "name": "stdout"
        }
      ]
    }
  ]
}