{
  "nbformat": 4,
  "nbformat_minor": 0,
  "metadata": {
    "colab": {
      "name": "HomeWork2_Tensor_Vector_Binary_Tree.ipynb",
      "provenance": [],
      "collapsed_sections": [],
      "authorship_tag": "ABX9TyNpR9jp07OwsS4T962OVqsL",
      "include_colab_link": true
    },
    "kernelspec": {
      "name": "python3",
      "display_name": "Python 3"
    }
  },
  "cells": [
    {
      "cell_type": "markdown",
      "metadata": {
        "id": "view-in-github",
        "colab_type": "text"
      },
      "source": [
        "<a href=\"https://colab.research.google.com/github/vikpy/AISem3/blob/master/HW/HomeWork2_Tensor_Vector_Binary_Tree.ipynb\" target=\"_parent\"><img src=\"https://colab.research.google.com/assets/colab-badge.svg\" alt=\"Open In Colab\"/></a>"
      ]
    },
    {
      "cell_type": "markdown",
      "metadata": {
        "id": "VTbzYIZBXZfi",
        "colab_type": "text"
      },
      "source": [
        "# Q1. Difference and Similarity between tensors and vectors \n",
        "\n",
        "**Difference**: Tensors are n indices and mxn components in a mth dimensional space and nth rank tensor. Tensors are just generalization of scalar representation of object. Tensors have certain set of Linear operations or Transformations. \n",
        "A vector is an object that has both a magnitude and a direction. Thus vector can be also be defined using a fixed set of basis vector as well. \n",
        "\n",
        "**Similarirty**: As mentioned before tensors have certain set transformations. Based on rank of the tensor it can be classified as follows:\n",
        "Objects that transform like **zeroth-rank tensors** are called scalars, those that transform like **first-rank tensors** are called vectors, and those that transform like **second-rank tensors** are called matrices. In tensor notation, a vector v would be written v_i, where i=1, ..., m, and matrix is a tensor of type (1,1), which would be written a_i^j in tensor notation.\n",
        "\n",
        "Following image carves out the difference between difference objects used on Machine Learning very clearly from computer science perspective. \n",
        "\n",
        "![Scalar, Vector, Matrix, Tensor](https://hadrienj.github.io/assets/images/2.1/scalar-vector-matrix-tensor.png)\n",
        "\n",
        "Reference: [Tensors(Wolfram Mathworld)](https://mathworld.wolfram.com/Tensor.html)\n",
        "\n",
        "\n"
      ]
    },
    {
      "cell_type": "markdown",
      "metadata": {
        "id": "kP9e5vbhXmqo",
        "colab_type": "text"
      },
      "source": [
        "# Q2. Difference between tensor data (tensorflow)object vs ndarray(Numpy) including operations , execution time and other relevant properties\n",
        "\n",
        "\n",
        "\n",
        "References:\n",
        "\n",
        "1. https://www.tensorflow.org/guide/tensor\n",
        "\n",
        "2. https://machinelearningmastery.com/introduction-to-tensors-for-machine-learning/\n",
        "\n",
        "3. https://simplyml.com/linear-algebra-shootout-numpy-vs-theano-vs-tensorflow-2/\n",
        "\n",
        "\n",
        "LINK TO THE PRESENTATION:\n",
        "\n",
        "https://github.com/vikpy/AISem3/blob/master/HW/tensorflow_numpy.pdf"
      ]
    },
    {
      "cell_type": "code",
      "metadata": {
        "id": "uy1hXi00dVF_",
        "colab_type": "code",
        "colab": {
          "base_uri": "https://localhost:8080/",
          "height": 34
        },
        "outputId": "5d1ec7e5-7c3b-4465-9d2c-98d8f4b083c3"
      },
      "source": [
        "import tensorflow as tf\n",
        "import numpy as np\n",
        "\n"
      ],
      "execution_count": 3,
      "outputs": [
        {
          "output_type": "execute_result",
          "data": {
            "text/plain": [
              "numpy.ndarray"
            ]
          },
          "metadata": {
            "tags": []
          },
          "execution_count": 3
        }
      ]
    },
    {
      "cell_type": "markdown",
      "metadata": {
        "id": "xj1rx7HSf9TD",
        "colab_type": "text"
      },
      "source": [
        "We will make 3 3 3 tensor and compare operations execution in tensorflow object"
      ]
    },
    {
      "cell_type": "code",
      "metadata": {
        "id": "hnFJ1ZRCqB_D",
        "colab_type": "code",
        "colab": {
          "base_uri": "https://localhost:8080/",
          "height": 218
        },
        "outputId": "15421b4f-1a6a-4156-afeb-f3641babe5c8"
      },
      "source": [
        "# In tensorflow\n",
        "\n",
        "a_tf = tf.constant([[1, 2],\n",
        "                 [3, 4]])\n",
        "b_tf = tf.constant([[2, -1],\n",
        "                 [1, 7]]) # Could have also said `tf.ones([2,2])`\n",
        "\n",
        "print(tf.add(a_tf, b_tf), \"\\n\")\n",
        "print(tf.multiply(a_tf, b_tf), \"\\n\")\n",
        "print(tf.matmul(a_tf, b_tf), \"\\n\")"
      ],
      "execution_count": 26,
      "outputs": [
        {
          "output_type": "stream",
          "text": [
            "tf.Tensor(\n",
            "[[ 3  1]\n",
            " [ 4 11]], shape=(2, 2), dtype=int32) \n",
            "\n",
            "tf.Tensor(\n",
            "[[ 2 -2]\n",
            " [ 3 28]], shape=(2, 2), dtype=int32) \n",
            "\n",
            "tf.Tensor(\n",
            "[[ 4 13]\n",
            " [10 25]], shape=(2, 2), dtype=int32) \n",
            "\n"
          ],
          "name": "stdout"
        }
      ]
    },
    {
      "cell_type": "code",
      "metadata": {
        "id": "HtC6ffRNqIxA",
        "colab_type": "code",
        "colab": {
          "base_uri": "https://localhost:8080/",
          "height": 218
        },
        "outputId": "042600ef-8b94-4d69-9118-4de80b55b98e"
      },
      "source": [
        "# Alternatively\n",
        "print(a_tf + b_tf, \"\\n\") # element-wise addition\n",
        "print(a_tf * b_tf, \"\\n\") # element-wise multiplication\n",
        "print(a_tf @ b_tf, \"\\n\") # matrix multiplication"
      ],
      "execution_count": 27,
      "outputs": [
        {
          "output_type": "stream",
          "text": [
            "tf.Tensor(\n",
            "[[ 3  1]\n",
            " [ 4 11]], shape=(2, 2), dtype=int32) \n",
            "\n",
            "tf.Tensor(\n",
            "[[ 2 -2]\n",
            " [ 3 28]], shape=(2, 2), dtype=int32) \n",
            "\n",
            "tf.Tensor(\n",
            "[[ 4 13]\n",
            " [10 25]], shape=(2, 2), dtype=int32) \n",
            "\n"
          ],
          "name": "stdout"
        }
      ]
    },
    {
      "cell_type": "code",
      "metadata": {
        "id": "H9IonbjzrgZS",
        "colab_type": "code",
        "colab": {
          "base_uri": "https://localhost:8080/",
          "height": 168
        },
        "outputId": "39aa0769-a260-4432-9a44-7d90db72766a"
      },
      "source": [
        "from numpy import np\n",
        "a_np = np.array([[1, 2],\n",
        "          [3, 4]])\n",
        "b_np = np.array(\n",
        "     [[2, -1],\n",
        "     [1, 7]] \n",
        ")\n",
        "# Tensor operations similar to tf still works for numpy\n",
        "print(a_np + b_np, type(a_np + b_np),  \"\\n\") # element-wise addition  \n",
        "print(a_np * b_np,type(a_np + b_np), \"\\n\") # element-wise multiplication\n",
        "print(a_np @ b_np,type(a_np + b_np), \"\\n\") # matrix multiplication"
      ],
      "execution_count": 28,
      "outputs": [
        {
          "output_type": "stream",
          "text": [
            "[[ 3  1]\n",
            " [ 4 11]] <class 'numpy.ndarray'> \n",
            "\n",
            "[[ 2 -2]\n",
            " [ 3 28]] <class 'numpy.ndarray'> \n",
            "\n",
            "[[ 4 13]\n",
            " [10 25]] <class 'numpy.ndarray'> \n",
            "\n"
          ],
          "name": "stdout"
        }
      ]
    },
    {
      "cell_type": "markdown",
      "metadata": {
        "id": "bSb-JLbTsl5d",
        "colab_type": "text"
      },
      "source": [
        "We can also try tensor division"
      ]
    },
    {
      "cell_type": "code",
      "metadata": {
        "id": "go-VFVqhsseY",
        "colab_type": "code",
        "colab": {
          "base_uri": "https://localhost:8080/",
          "height": 134
        },
        "outputId": "ac1e917a-347b-4aec-f549-9c136e131d11"
      },
      "source": [
        "print(a_np/b_np,type(a_np/b_np), \"\\n\")  # In numpy \n",
        "print(a_tf/b_tf,type(a_tf/b_tf), \"\\n\")  # In tensorflow "
      ],
      "execution_count": 29,
      "outputs": [
        {
          "output_type": "stream",
          "text": [
            "[[ 0.5        -2.        ]\n",
            " [ 3.          0.57142857]] <class 'numpy.ndarray'> \n",
            "\n",
            "tf.Tensor(\n",
            "[[ 0.5        -2.        ]\n",
            " [ 3.          0.57142857]], shape=(2, 2), dtype=float64) <class 'tensorflow.python.framework.ops.EagerTensor'> \n",
            "\n"
          ],
          "name": "stdout"
        }
      ]
    },
    {
      "cell_type": "code",
      "metadata": {
        "id": "jgZ1dOxpy-y8",
        "colab_type": "code",
        "colab": {
          "base_uri": "https://localhost:8080/",
          "height": 218
        },
        "outputId": "e05ed620-f81d-4e08-9a86-a72220c88968"
      },
      "source": [
        "#Tensor Dot Product using np array \n",
        "c_np = np.tensordot(a_np, b_np, axes=0)\n",
        "print(c_np, type(c_np))"
      ],
      "execution_count": 35,
      "outputs": [
        {
          "output_type": "stream",
          "text": [
            "[[[[ 2 -1]\n",
            "   [ 1  7]]\n",
            "\n",
            "  [[ 4 -2]\n",
            "   [ 2 14]]]\n",
            "\n",
            "\n",
            " [[[ 6 -3]\n",
            "   [ 3 21]]\n",
            "\n",
            "  [[ 8 -4]\n",
            "   [ 4 28]]]] <class 'numpy.ndarray'>\n"
          ],
          "name": "stdout"
        }
      ]
    },
    {
      "cell_type": "code",
      "metadata": {
        "id": "tjEOcCDizMfd",
        "colab_type": "code",
        "colab": {
          "base_uri": "https://localhost:8080/",
          "height": 235
        },
        "outputId": "f604ed17-80c1-4025-aa55-00af6babd288"
      },
      "source": [
        "#tensor dot is similar in tensorflow as well\n",
        "c_tf = tf.tensordot(a_tf, b_tf, axes=0)\n",
        "print(c_tf, type(c_tf))"
      ],
      "execution_count": 36,
      "outputs": [
        {
          "output_type": "stream",
          "text": [
            "tf.Tensor(\n",
            "[[[[ 2 -1]\n",
            "   [ 1  7]]\n",
            "\n",
            "  [[ 4 -2]\n",
            "   [ 2 14]]]\n",
            "\n",
            "\n",
            " [[[ 6 -3]\n",
            "   [ 3 21]]\n",
            "\n",
            "  [[ 8 -4]\n",
            "   [ 4 28]]]], shape=(2, 2, 2, 2), dtype=int32) <class 'tensorflow.python.framework.ops.EagerTensor'>\n"
          ],
          "name": "stdout"
        }
      ]
    },
    {
      "cell_type": "markdown",
      "metadata": {
        "id": "h65vZ8r427NP",
        "colab_type": "text"
      },
      "source": [
        "We will asses the speed for tensorflow and numpy "
      ]
    },
    {
      "cell_type": "code",
      "metadata": {
        "id": "qFzP3fs93BI4",
        "colab_type": "code",
        "colab": {
          "base_uri": "https://localhost:8080/",
          "height": 34
        },
        "outputId": "e3b3087f-fe0c-4caf-b6fa-fa66c4c1ae77"
      },
      "source": [
        "import numpy\n",
        "import timeit\n",
        "A = numpy.random.rand(10, 10).astype(numpy.float32)\n",
        "B = numpy.random.rand(10, 10).astype(numpy.float32)\n",
        "\n",
        "timer = timeit.Timer(\"numpy.dot(A, B)\", \"import numpy; from __main__ import A, B\")\n",
        "numpy_times_list = timer.repeat()\n",
        "min(numpy_times_list)"
      ],
      "execution_count": 44,
      "outputs": [
        {
          "output_type": "execute_result",
          "data": {
            "text/plain": [
              "1.456392951999078"
            ]
          },
          "metadata": {
            "tags": []
          },
          "execution_count": 44
        }
      ]
    },
    {
      "cell_type": "code",
      "metadata": {
        "id": "0_25IY_j_7Dy",
        "colab_type": "code",
        "colab": {
          "base_uri": "https://localhost:8080/",
          "height": 34
        },
        "outputId": "1eae15db-f10c-4fd5-9d2b-1aa90e632a18"
      },
      "source": [
        "import tensorflow as tf\n",
        "\n",
        "A = tf.constant(A)\n",
        "B = tf.constant(B)\n",
        "\n",
        "timer = timeit.Timer(\"tf.matmul(A, B)\", setup=\"import tensorflow as tf; from __main__ import A, B\")\n",
        "tensorflow_times_list = timer.repeat()\n",
        "min(tensorflow_times_list)"
      ],
      "execution_count": 57,
      "outputs": [
        {
          "output_type": "execute_result",
          "data": {
            "text/plain": [
              "16.763378783000007"
            ]
          },
          "metadata": {
            "tags": []
          },
          "execution_count": 57
        }
      ]
    },
    {
      "cell_type": "markdown",
      "metadata": {
        "id": "0tzrUApXBxDQ",
        "colab_type": "text"
      },
      "source": [
        "# Q.3 Implement a complete binary tree with 5 implementations of a graph"
      ]
    },
    {
      "cell_type": "code",
      "metadata": {
        "id": "lq-I2Ne4B2uc",
        "colab_type": "code",
        "colab": {}
      },
      "source": [
        "# different implementations of different Complete Binary tree structures for A B C D E F G H I J\n",
        "\n",
        "tree1 = [\n",
        "    ['A' , 'B', 'C'],\n",
        "\n",
        "    ['B', 'D', 'E'],\n",
        "\n",
        "    ['C', 'F', 'G'],\n",
        "\n",
        "    ['D', 'H', 'I'],\n",
        "\n",
        "    ['E', 'J'],\n",
        "    \n",
        "    ['H' ],\n",
        "\n",
        "    ['I' ],\n",
        "\n",
        "    ['J'],\n",
        "\n",
        "     ['F'],\n",
        "\n",
        "     ['G' ]\n",
        "\n",
        "]\n",
        "\n",
        "\n",
        "tree2 = [\n",
        "    ['A',  [ 'B', 'C'] ] ,\n",
        "\n",
        "    ['B', [ 'D', 'E'] ],\n",
        "\n",
        "    ['C', [ 'F', 'G'] ],\n",
        "\n",
        "    ['D', ['H', 'I'] ],\n",
        "\n",
        "    ['E', [ 'J']],\n",
        "\n",
        "\n",
        "    ['H' ,[]],\n",
        "\n",
        "    ['I' ,[]],\n",
        "\n",
        "    ['J' ,[]],\n",
        "\n",
        "     ['F' ,[]],\n",
        "\n",
        "     ['G',[]]\n",
        "\n",
        "]\n",
        "\n",
        "\n",
        "tree3 = [\n",
        "    ['A',  ( 'B', 'C') ] ,\n",
        "\n",
        "    ['B', ( 'D', 'E') ],\n",
        "\n",
        "    ['C', ( 'F', 'G') ],\n",
        "\n",
        "    ['D', ('H', 'I') ],\n",
        "\n",
        "    ['E', ('J') ],\n",
        "\n",
        "    ['H' ,()] ,\n",
        "\n",
        "    ['I' ,()],\n",
        "\n",
        "    ['J' ,() ],\n",
        "\n",
        "     ['F' ,() ],\n",
        "\n",
        "     ['G',()]\n",
        "]\n",
        "\n",
        "\n",
        "tree4 = (\n",
        "    ['A',  [ 'B', 'C'] ] ,\n",
        "\n",
        "    ['B', [ 'D', 'E'] ],\n",
        "\n",
        "    ['C', [ 'F', 'G'] ],\n",
        "\n",
        "    ['D', ['H', 'I'] ],\n",
        "\n",
        "    ['E', [ 'J']],\n",
        "\n",
        "    ['H' ,[]],\n",
        "\n",
        "    ['I' ,[]],\n",
        "\n",
        "    ['J' ,[]],\n",
        "\n",
        "     ['F' ,[]],\n",
        "\n",
        "     ['G',[]]\n",
        "\n",
        ")\n",
        "\n",
        "\n",
        "tree5 = {\n",
        "    'A':  [ 'B', 'C']  ,\n",
        "\n",
        "    'B': [ 'D', 'E'] ,\n",
        "\n",
        "    'C': [ 'F', 'G'] ,\n",
        "\n",
        "    'D': ['H', 'I'] ,\n",
        "\n",
        "    'E': ['J'],\n",
        "\n",
        "    'H' :[],\n",
        "\n",
        "    'I' :[],\n",
        "\n",
        "    'J' :[],\n",
        "\n",
        "     'F' :[],\n",
        "\n",
        "     'G':[]\n",
        "}\n",
        "\n",
        "\n",
        "\n",
        "\n",
        "def createTree(*nodes):\n",
        "  '''\n",
        "  pending\n",
        "  '''\n"
      ],
      "execution_count": 70,
      "outputs": []
    },
    {
      "cell_type": "markdown",
      "metadata": {
        "id": "D89Ux_bmRdrA",
        "colab_type": "text"
      },
      "source": [
        "#Q4. Implement DFS in the binary tree to search for a node based on user input"
      ]
    },
    {
      "cell_type": "code",
      "metadata": {
        "id": "LkrRqfiXY4eJ",
        "colab_type": "code",
        "colab": {
          "base_uri": "https://localhost:8080/",
          "height": 386
        },
        "outputId": "7f2859dd-de86-4cf2-9a36-2884c5663212"
      },
      "source": [
        "def dfs(visited, graph, node):\n",
        "    '''\n",
        "    Recursive function implementing DFS \n",
        "    '''\n",
        "    if node not in visited:\n",
        "        print(f'Node Name {node}')\n",
        "        visited.add(node)\n",
        "        for neighbour in graph[node]:\n",
        "            print(f'Neighbor of Node: {node} is {neighbour}')\n",
        "            dfs(visited, graph, neighbour)\n",
        "visited = set()\n",
        "print(\"-\"*100)\n",
        "print(\"Traversal:\")\n",
        "dfs(visited, tree5, 'A')\n",
        "print(\"-\"*100)"
      ],
      "execution_count": 68,
      "outputs": [
        {
          "output_type": "stream",
          "text": [
            "----------------------------------------------------------------------------------------------------\n",
            "Traversal:\n",
            "Node Name A\n",
            "Neighbor of Node: A is B\n",
            "Node Name B\n",
            "Neighbor of Node: B is D\n",
            "Node Name D\n",
            "Neighbor of Node: D is H\n",
            "Node Name H\n",
            "Neighbor of Node: D is I\n",
            "Node Name I\n",
            "Neighbor of Node: B is E\n",
            "Node Name E\n",
            "Neighbor of Node: E is J\n",
            "Node Name J\n",
            "Neighbor of Node: A is C\n",
            "Node Name C\n",
            "Neighbor of Node: C is F\n",
            "Node Name F\n",
            "Neighbor of Node: C is G\n",
            "Node Name G\n",
            "----------------------------------------------------------------------------------------------------\n"
          ],
          "name": "stdout"
        }
      ]
    }
  ]
}