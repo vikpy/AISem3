{
  "nbformat": 4,
  "nbformat_minor": 0,
  "metadata": {
    "colab": {
      "name": "HomeWork4 Map Coloring Problem.ipynb",
      "provenance": [],
      "collapsed_sections": [],
      "authorship_tag": "ABX9TyOVls+cCRawcGLZS2Vx8elF",
      "include_colab_link": true
    },
    "kernelspec": {
      "name": "python3",
      "display_name": "Python 3"
    }
  },
  "cells": [
    {
      "cell_type": "markdown",
      "metadata": {
        "id": "view-in-github",
        "colab_type": "text"
      },
      "source": [
        "<a href=\"https://colab.research.google.com/github/vikpy/AISem3/blob/master/HW/HomeWork4_Map_Coloring_Problem.ipynb\" target=\"_parent\"><img src=\"https://colab.research.google.com/assets/colab-badge.svg\" alt=\"Open In Colab\"/></a>"
      ]
    },
    {
      "cell_type": "markdown",
      "metadata": {
        "id": "VpSzOm6waeeB"
      },
      "source": [
        "Used this code for solving the contraint problem \n",
        "\n",
        "https://codereview.stackexchange.com/questions/44521/constraint-programming-map-color-problem"
      ]
    },
    {
      "cell_type": "code",
      "metadata": {
        "id": "IrLcarMuOUSO"
      },
      "source": [
        "def check_valid(graph):\n",
        "    for node,nexts in graph.items():\n",
        "        assert(node not in nexts) # # no node linked to itself\n",
        "        for next in nexts:\n",
        "            assert(next in graph and node in graph[next]) # A linked to B implies B linked to A"
      ],
      "execution_count": 54,
      "outputs": []
    },
    {
      "cell_type": "code",
      "metadata": {
        "id": "BSTH7hTLOZQ2"
      },
      "source": [
        "def check_solution(graph, solution):\n",
        "    if solution is not None:\n",
        "        for node,nexts in graph.items():\n",
        "            if (node not in solution):\n",
        "              return None\n",
        "            else:\n",
        "              color = solution[node]\n",
        "              for next in nexts:\n",
        "                  if (next in solution and solution[next] != color):\n",
        "                    pass\n",
        "                  else:\n",
        "                    return None\n",
        "        return 1\n",
        "    else: \n",
        "      return None"
      ],
      "execution_count": 179,
      "outputs": []
    },
    {
      "cell_type": "code",
      "metadata": {
        "id": "8nfVI58xObqt"
      },
      "source": [
        "def find_best_candidate(graph, guesses):\n",
        "    if True: #optimised\n",
        "        # Optimisations are to be put here. Ideas would be to take the node with the most uncolored neighboors or the one with the smallest possible number of colors or both\n",
        "        candidates_with_add_info = [\n",
        "            (\n",
        "            -len({guesses[neigh] for neigh in graph[n] if neigh     in guesses}), # nb_forbidden_colors\n",
        "            -len({neigh          for neigh in graph[n] if neigh not in guesses}), # minus nb_uncolored_neighbour\n",
        "            n\n",
        "            ) for n in graph if n not in guesses]\n",
        "        candidates_with_add_info.sort()\n",
        "        candidates = [n for _,_,n in candidates_with_add_info]\n",
        "    else:\n",
        "        candidates = [n for n in graph if n not in guesses]\n",
        "        candidates.sort() # just to have some consistent performances\n",
        "    if candidates:\n",
        "        candidate = candidates[0]\n",
        "        assert(candidate not in guesses)\n",
        "        return candidate\n",
        "    assert(set(graph.keys()) == set(guesses.keys()))\n",
        "    return None"
      ],
      "execution_count": 47,
      "outputs": []
    },
    {
      "cell_type": "code",
      "metadata": {
        "id": "45_JZswQP1Jy"
      },
      "source": [
        "nb_calls = 0\n",
        "\n",
        "def solve(graph, colors, guesses, depth):\n",
        "    global nb_calls\n",
        "    nb_calls += 1\n",
        "    n = find_best_candidate(graph, guesses)\n",
        "    if n is None:\n",
        "        return guesses # Solution is found\n",
        "    for c in colors - {guesses[neigh] for neigh in graph[n] if neigh in guesses}:\n",
        "        assert(n not in guesses)\n",
        "        assert(all((neigh not in guesses or guesses[neigh] != c) for neigh in graph[n]))\n",
        "        guesses[n] = c\n",
        "        indent = '  '*depth\n",
        " #       print(\"{0} Trying to give color {1} to {2}\".format(indent,c,n))\n",
        "        if solve(graph, colors, guesses, depth+1):\n",
        " #           print(\"{0}Gave color {1} to {2}\".format(indent,c,n))\n",
        "            return guesses\n",
        "        else:\n",
        "            del guesses[n]\n",
        " #           print(\"{0}Cannot give color {1} to {2}\".format(indent,c,n))\n",
        "    return None"
      ],
      "execution_count": 137,
      "outputs": []
    },
    {
      "cell_type": "code",
      "metadata": {
        "id": "xSgWBN7NOlgD"
      },
      "source": [
        "def solve_problem(graph, colors):\n",
        "    check_valid(graph)\n",
        "    solution = solve(graph, colors, dict(), 0)\n",
        "    check_solution(graph,solution)\n",
        "    return solution "
      ],
      "execution_count": 86,
      "outputs": []
    },
    {
      "cell_type": "markdown",
      "metadata": {
        "id": "Da_O5vwMarwS"
      },
      "source": [
        "# Q. HW Question \n",
        "Find number of colors for graphs\n"
      ]
    },
    {
      "cell_type": "code",
      "metadata": {
        "id": "TBXMnX4IcXKY"
      },
      "source": [
        "#Now we can solve the problem using the coloring problem \n",
        "#Generating complete graph using dict \n",
        "# Have considered a fully connected graph for the problem \n",
        "def generate_graph(nodes):\n",
        "  main_dictionary = {}\n",
        "  for main_node in nodes:\n",
        "    intermediate_array = set()\n",
        "    for sub_node in nodes: \n",
        "      if main_node != sub_node:\n",
        "        intermediate_array.add(sub_node)\n",
        "    main_dictionary[main_node] = intermediate_array\n",
        "  return main_dictionary"
      ],
      "execution_count": 150,
      "outputs": []
    },
    {
      "cell_type": "code",
      "metadata": {
        "id": "K8vtdAF2cYCc",
        "outputId": "42bfb6c2-8419-42d2-86c9-5ad8b52c303d",
        "colab": {
          "base_uri": "https://localhost:8080/",
          "height": 106
        }
      },
      "source": [
        "generate_graph(range(5))"
      ],
      "execution_count": 163,
      "outputs": [
        {
          "output_type": "execute_result",
          "data": {
            "text/plain": [
              "{0: {1, 2, 3, 4},\n",
              " 1: {0, 2, 3, 4},\n",
              " 2: {0, 1, 3, 4},\n",
              " 3: {0, 1, 2, 4},\n",
              " 4: {0, 1, 2, 3}}"
            ]
          },
          "metadata": {
            "tags": []
          },
          "execution_count": 163
        }
      ]
    },
    {
      "cell_type": "code",
      "metadata": {
        "id": "9b9s1FcDcc4g"
      },
      "source": [
        "def find_optimal_colors(graph ,iterations=100):\n",
        "  # we start with a fully connected graph of k nodes(k is greater than the number of colors)\n",
        "  n = len(graph)\n",
        "  n_colors = 1\n",
        "  colors = set()\n",
        "  for i in range(iterations):\n",
        "    colors.add(n_colors)\n",
        "    solution = solve(graph, colors, dict(), 0)\n",
        "    if((not check_solution(graph, solution))):\n",
        "      n_colors += 1\n",
        "\n",
        "  print(solution)\n",
        "  return n_colors"
      ],
      "execution_count": 283,
      "outputs": []
    },
    {
      "cell_type": "code",
      "metadata": {
        "id": "yQUvH7TteH0P"
      },
      "source": [
        "graph = generate_graph(range(10))\n",
        "check_solution(graph, solve(graph, colors, dict(), 0))"
      ],
      "execution_count": 274,
      "outputs": []
    },
    {
      "cell_type": "code",
      "metadata": {
        "id": "uzF8z3NfmD-1",
        "outputId": "68233041-3cd1-4c45-864b-2a764435816a",
        "colab": {
          "base_uri": "https://localhost:8080/",
          "height": 52
        }
      },
      "source": [
        "print(f\"Number of colors required to fill the graph is {find_optimal_colors(generate_graph(range(5)) ,100)}\")"
      ],
      "execution_count": 290,
      "outputs": [
        {
          "output_type": "stream",
          "text": [
            "{0: 1, 1: 2, 2: 3, 3: 4, 4: 5}\n",
            "Number of colors required to fill the graph is 5\n"
          ],
          "name": "stdout"
        }
      ]
    },
    {
      "cell_type": "code",
      "metadata": {
        "id": "GWhrzr6N_-oI"
      },
      "source": [
        " graph_2 =  {0: {1, 2},\n",
        "    1: {0, 2},\n",
        "    2: {0, 1, 3, 4},\n",
        "    3: {2, 4},\n",
        "    4: { 2, 3}}"
      ],
      "execution_count": 287,
      "outputs": []
    },
    {
      "cell_type": "code",
      "metadata": {
        "id": "rcv0rLd1AQok",
        "outputId": "0b9c0007-f0c1-41ed-c8e2-f774872af2e7",
        "colab": {
          "base_uri": "https://localhost:8080/",
          "height": 52
        }
      },
      "source": [
        "print(f\"Minimum Number of colors required to fill the graph is {find_optimal_colors(graph_2 ,100)}\")\n"
      ],
      "execution_count": 301,
      "outputs": [
        {
          "output_type": "stream",
          "text": [
            "{2: 1, 0: 2, 1: 3, 3: 2, 4: 3}\n",
            "Minimum Number of colors required to fill the graph is 3\n"
          ],
          "name": "stdout"
        }
      ]
    },
    {
      "cell_type": "code",
      "metadata": {
        "id": "5zV8V3KFAq-E",
        "outputId": "97838a74-70ea-4afa-a970-892fd439cd79",
        "colab": {
          "base_uri": "https://localhost:8080/",
          "height": 52
        }
      },
      "source": [
        " graph_3 =  {0: {1, 2, 5},\n",
        "    1: {0, 2},\n",
        "    2: {0, 1, 3, 4,5},\n",
        "    3: {2, 4, 5},\n",
        "    4: { 2, 3},\n",
        "    5: { 0 , 2, 3}\n",
        "    }\n",
        "\n",
        "print(f\"Minimum Number of colors required to fill the graph is {find_optimal_colors(graph_3 ,100)}\")\n"
      ],
      "execution_count": 300,
      "outputs": [
        {
          "output_type": "stream",
          "text": [
            "{2: 1, 0: 2, 5: 3, 3: 2, 1: 3, 4: 3}\n",
            "Minimum Number of colors required to fill the graph is 3\n"
          ],
          "name": "stdout"
        }
      ]
    },
    {
      "cell_type": "code",
      "metadata": {
        "id": "20RiFZZiBO4w",
        "outputId": "2642e4bc-404a-45cf-938e-43e96aec0f3d",
        "colab": {
          "base_uri": "https://localhost:8080/",
          "height": 52
        }
      },
      "source": [
        " graph_4 =  {\n",
        "    0: {1,  3, 4, 5},\n",
        "    1: {0, 2, 3,4,5},\n",
        "    2: { 1, 3, 4,5},\n",
        "    3: {2,  5, 1, 0},\n",
        "    4: { 0, 1, 2,  5},\n",
        "    5: { 0 , 2, 3, 4, 1}\n",
        "    }\n",
        "\n",
        "print(f\"Minimum Number of colors required to fill the graph is {find_optimal_colors(graph_4 ,100)}\")"
      ],
      "execution_count": 303,
      "outputs": [
        {
          "output_type": "stream",
          "text": [
            "{1: 1, 5: 2, 0: 3, 3: 4, 2: 3, 4: 4}\n",
            "Minimum Number of colors required to fill the graph is 4\n"
          ],
          "name": "stdout"
        }
      ]
    }
  ]
}